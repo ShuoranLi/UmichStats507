{
 "cells": [
  {
   "cell_type": "markdown",
   "metadata": {},
   "source": [
    "## Stats507 Homework1, Winter 2019\n",
    "### Shuoran Li\n",
    "#### shuoranl@umich.edu\n",
    "\n",
    "I did not discuss problems with anyone else in the class on this homework.\n",
    "\n",
    "Problem 1 took me 10 min; Problem 2 took me one hour; Problem 3 took me 40 min; Problem 4 took me half hour"
   ]
  },
  {
   "cell_type": "markdown",
   "metadata": {},
   "source": [
    "### Problem 1: Defining Simple Functions"
   ]
  },
  {
   "cell_type": "markdown",
   "metadata": {},
   "source": [
    "### 1.1 \n",
    "#### Define a function called say_hi, which takes no arguments and prints the string Hello, world! when called."
   ]
  },
  {
   "cell_type": "code",
   "execution_count": 5,
   "metadata": {},
   "outputs": [],
   "source": [
    "# define a function called say_hi\n",
    "def say_hi():\n",
    "    print('Hello, world')"
   ]
  },
  {
   "cell_type": "code",
   "execution_count": 6,
   "metadata": {},
   "outputs": [
    {
     "name": "stdout",
     "output_type": "stream",
     "text": [
      "Hello, world\n"
     ]
    }
   ],
   "source": [
    "say_hi()"
   ]
  },
  {
   "cell_type": "markdown",
   "metadata": {},
   "source": [
    "### 1.2\n",
    "#### Define a function called goat_pad, which takes a string as its only argument, and prints that string, prepended and appended with the string goat. "
   ]
  },
  {
   "cell_type": "code",
   "execution_count": 7,
   "metadata": {},
   "outputs": [],
   "source": [
    "# define a function called goat_pad\n",
    "def goat_pad(string):\n",
    "    out = 'goat'+ string +'goat'\n",
    "    print(out)"
   ]
  },
  {
   "cell_type": "code",
   "execution_count": 8,
   "metadata": {},
   "outputs": [
    {
     "name": "stdout",
     "output_type": "stream",
     "text": [
      "goatKobegoat\n"
     ]
    }
   ],
   "source": [
    "goat_pad('Kobe')"
   ]
  },
  {
   "cell_type": "markdown",
   "metadata": {},
   "source": [
    "### 1.3\n",
    "#### Define a function called print_n, which takes two arguments, a string s and an integer n (in that order), and prints the string n times, each on a separate line. "
   ]
  },
  {
   "cell_type": "code",
   "execution_count": 9,
   "metadata": {},
   "outputs": [],
   "source": [
    "# define a function called print_n\n",
    "def print_n(s, n):\n",
    "    new_s = s + '\\n'\n",
    "    print((n*new_s)[:-1]) # Because we want to remove the last line-break symbol."
   ]
  },
  {
   "cell_type": "code",
   "execution_count": 10,
   "metadata": {},
   "outputs": [
    {
     "name": "stdout",
     "output_type": "stream",
     "text": [
      "ww\n",
      "ww\n",
      "ww\n",
      "ww\n",
      "ww\n"
     ]
    }
   ],
   "source": [
    "print_n('ww', 5)"
   ]
  },
  {
   "cell_type": "markdown",
   "metadata": {},
   "source": [
    "### Problem 2: Euclid’s algorithm"
   ]
  },
  {
   "cell_type": "markdown",
   "metadata": {},
   "source": [
    "### 2.1\n",
    "#### Choose one of several algorithms on Wiki, and use it to implement a function gcd, which takes two integers as its arguments and returns their GCD."
   ]
  },
  {
   "cell_type": "code",
   "execution_count": 11,
   "metadata": {},
   "outputs": [],
   "source": [
    "# define a function called gcd\n",
    "def gcd(a, b):\n",
    "    if b == 0:\n",
    "       return a; \n",
    "    else:\n",
    "       return gcd(b, a % b);"
   ]
  },
  {
   "cell_type": "markdown",
   "metadata": {},
   "source": [
    "### 2.2\n",
    "#### Use your function to evaluate the GCDs of the following pairs of numbers:\n",
    "$$(a) 2018, 2019$$\n",
    "$$(b) 1200, 300$$\n",
    "$$(c) 5040, 60$$"
   ]
  },
  {
   "cell_type": "code",
   "execution_count": 12,
   "metadata": {},
   "outputs": [
    {
     "name": "stdout",
     "output_type": "stream",
     "text": [
      "1\n",
      "300\n",
      "60\n"
     ]
    }
   ],
   "source": [
    "# (a)\n",
    "print(gcd(2018, 2019))\n",
    "# (b)\n",
    "print(gcd(1200, 300))\n",
    "# (c)\n",
    "print(gcd(5040, 60))"
   ]
  },
  {
   "cell_type": "markdown",
   "metadata": {},
   "source": [
    "### 2.3\n",
    "#### What does your function do if one or both of its arguments are negative? Does this behavior make sense?"
   ]
  },
  {
   "cell_type": "code",
   "execution_count": 13,
   "metadata": {},
   "outputs": [
    {
     "name": "stdout",
     "output_type": "stream",
     "text": [
      "10\n",
      "2\n",
      "-5\n",
      "-2\n"
     ]
    }
   ],
   "source": [
    "# First we try one negative with one positive number\n",
    "print(gcd(-10, 10))\n",
    "print(gcd(-2, 10))\n",
    "# Then we try both negative input numbers\n",
    "print(gcd(-10, -5))\n",
    "print(gcd(-2, -6))"
   ]
  },
  {
   "cell_type": "markdown",
   "metadata": {},
   "source": [
    "Based on the definition of GCD shown on the homework1 page, the function actually makes sense."
   ]
  },
  {
   "cell_type": "markdown",
   "metadata": {},
   "source": [
    "### Problem 3: Approximating Euler’s number $e$"
   ]
  },
  {
   "cell_type": "markdown",
   "metadata": {},
   "source": [
    "### 3.1\n",
    "#### Define a function called euler_limit that takes as an argument an integer n, and returns a float that approximates e based on Equation (2)"
   ]
  },
  {
   "cell_type": "code",
   "execution_count": 14,
   "metadata": {},
   "outputs": [],
   "source": [
    "# define a function called euler_limit\n",
    "def euler_limit(n):\n",
    "    return (1+1/n)**n"
   ]
  },
  {
   "cell_type": "code",
   "execution_count": 15,
   "metadata": {},
   "outputs": [
    {
     "data": {
      "text/plain": [
       "2.676990129378183"
      ]
     },
     "execution_count": 15,
     "metadata": {},
     "output_type": "execute_result"
    }
   ],
   "source": [
    "euler_limit(2**5)"
   ]
  },
  {
   "cell_type": "markdown",
   "metadata": {},
   "source": [
    "### 3.2\n",
    "####  Define a function called euler_infinite_sum that takes a single non-negative integer argument n, and returns an approximation to e based on the first n terms of the sum in Equation (1)"
   ]
  },
  {
   "cell_type": "code",
   "execution_count": 16,
   "metadata": {},
   "outputs": [],
   "source": [
    "# import math module\n",
    "import math\n",
    "# define a function called euler_infinite_sum\n",
    "def euler_infinite_sum(n):\n",
    "    if n == 0:\n",
    "        return 0\n",
    "    else:\n",
    "        sum = 0 # innitialize sum\n",
    "        for i in range(0,n):\n",
    "            sum += 1/math.factorial(i)\n",
    "        return sum"
   ]
  },
  {
   "cell_type": "code",
   "execution_count": 17,
   "metadata": {},
   "outputs": [
    {
     "data": {
      "text/plain": [
       "2.7182818284590455"
      ]
     },
     "execution_count": 17,
     "metadata": {},
     "output_type": "execute_result"
    }
   ],
   "source": [
    "euler_infinite_sum(1000)"
   ]
  },
  {
   "cell_type": "markdown",
   "metadata": {},
   "source": [
    "### 3.3\n",
    "#### Define a function called euler_approx that takes a single argument, a float epsilon, and uses the sum in (1) to obtain an approximation of e that is within epsilon of the true value of e"
   ]
  },
  {
   "cell_type": "code",
   "execution_count": 18,
   "metadata": {},
   "outputs": [],
   "source": [
    "# define a function called euler_approx\n",
    "def euler_approx(eps):\n",
    "    i = 0 # innitialize i\n",
    "    while abs(euler_infinite_sum(i)-math.exp(1)) > eps:\n",
    "        i += 1\n",
    "    return euler_infinite_sum(i)"
   ]
  },
  {
   "cell_type": "code",
   "execution_count": 19,
   "metadata": {},
   "outputs": [
    {
     "data": {
      "text/plain": [
       "2.71827876984127"
      ]
     },
     "execution_count": 19,
     "metadata": {},
     "output_type": "execute_result"
    }
   ],
   "source": [
    "euler_approx(0.00001)"
   ]
  },
  {
   "cell_type": "markdown",
   "metadata": {},
   "source": [
    "### 3.4\n",
    "####  Define a function called print_euler_sum_table that takes a single positive integer n as an argument and prints the successive values obtained from euler_infinite_sum(k) as k ranges from 1 to n, one per line"
   ]
  },
  {
   "cell_type": "code",
   "execution_count": 20,
   "metadata": {},
   "outputs": [],
   "source": [
    "# define a function called print_euler_sum_table\n",
    "def print_euler_sum_table(n):\n",
    "    for k in range(1, n+1):\n",
    "        print(euler_infinite_sum(k))"
   ]
  },
  {
   "cell_type": "code",
   "execution_count": 21,
   "metadata": {},
   "outputs": [
    {
     "name": "stdout",
     "output_type": "stream",
     "text": [
      "1.0\n",
      "2.0\n",
      "2.5\n",
      "2.6666666666666665\n",
      "2.708333333333333\n",
      "2.7166666666666663\n",
      "2.7180555555555554\n",
      "2.7182539682539684\n",
      "2.71827876984127\n",
      "2.7182815255731922\n"
     ]
    }
   ],
   "source": [
    "print_euler_sum_table(10)"
   ]
  },
  {
   "cell_type": "markdown",
   "metadata": {},
   "source": [
    "### 3.5\n",
    "#### Which of these two approximations is better?"
   ]
  },
  {
   "cell_type": "code",
   "execution_count": 22,
   "metadata": {},
   "outputs": [
    {
     "name": "stdout",
     "output_type": "stream",
     "text": [
      "2.0 1.0\n",
      "2.25 2.0\n",
      "2.37037037037037 2.5\n",
      "2.44140625 2.6666666666666665\n",
      "2.4883199999999994 2.708333333333333\n",
      "2.5216263717421135 2.7166666666666663\n",
      "2.546499697040712 2.7180555555555554\n",
      "2.565784513950348 2.7182539682539684\n",
      "2.5811747917131984 2.71827876984127\n",
      "2.5937424601000023 2.7182815255731922\n"
     ]
    }
   ],
   "source": [
    "# compare two methods\n",
    "for i in range(1,11):\n",
    "    print(euler_limit(i), euler_infinite_sum(i))"
   ]
  },
  {
   "cell_type": "markdown",
   "metadata": {},
   "source": [
    "So based on the observation, we found that for a limited integer, the method of euler infinite sum would have a more precise outcome. So my point is that the second approximation is better."
   ]
  },
  {
   "cell_type": "markdown",
   "metadata": {},
   "source": [
    "### Problem 4: Testing Properties of an Integer\n",
    "### 4.1\n",
    "#### Write a function is_power_of_2 that takes a positive integer as its only argument and returns a Boolean indicating whether or not the input is a power of 2"
   ]
  },
  {
   "cell_type": "code",
   "execution_count": 54,
   "metadata": {},
   "outputs": [],
   "source": [
    "def is_power_of_2(n):\n",
    "    if n == 1:\n",
    "        return True\n",
    "    elif n%2 != 0:\n",
    "        return False\n",
    "    else:\n",
    "        return is_power_of_2(n/2)"
   ]
  },
  {
   "cell_type": "code",
   "execution_count": 55,
   "metadata": {},
   "outputs": [
    {
     "name": "stdout",
     "output_type": "stream",
     "text": [
      "True\n",
      "False\n"
     ]
    }
   ],
   "source": [
    "print(is_power_of_2(16))\n",
    "print(is_power_of_2(6))"
   ]
  },
  {
   "cell_type": "markdown",
   "metadata": {},
   "source": [
    "### 4.2\n",
    "#### Generalize your previous solution to a function is_power that takes two positive integers as its arguments, b and n, in that order, and returns a Boolean"
   ]
  },
  {
   "cell_type": "code",
   "execution_count": 58,
   "metadata": {},
   "outputs": [],
   "source": [
    "def is_power(b,n):\n",
    "    if n == 1:\n",
    "        return True\n",
    "    elif n%b != 0:\n",
    "        return False\n",
    "    else:\n",
    "        return is_power(b,n/b)"
   ]
  },
  {
   "cell_type": "code",
   "execution_count": 59,
   "metadata": {},
   "outputs": [
    {
     "name": "stdout",
     "output_type": "stream",
     "text": [
      "True False\n"
     ]
    }
   ],
   "source": [
    "print(is_power(3,9), is_power(4,32))"
   ]
  }
 ],
 "metadata": {
  "kernelspec": {
   "display_name": "Python 3",
   "language": "python",
   "name": "python3"
  },
  "language_info": {
   "codemirror_mode": {
    "name": "ipython",
    "version": 3
   },
   "file_extension": ".py",
   "mimetype": "text/x-python",
   "name": "python",
   "nbconvert_exporter": "python",
   "pygments_lexer": "ipython3",
   "version": "3.7.1"
  }
 },
 "nbformat": 4,
 "nbformat_minor": 2
}
