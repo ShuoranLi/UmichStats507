{
 "cells": [
  {
   "cell_type": "markdown",
   "metadata": {},
   "source": [
    "## Stats507 Homework3, Winter 2019\n",
    "### Shuoran Li\n",
    "#### shuoranl@umich.edu\n",
    "\n",
    "I did not discuss problems with anyone else in the class on this homework.\n",
    "\n",
    "Problem 1 took me 2.5 hours; Problem 2 took me 4 hours."
   ]
  },
  {
   "cell_type": "markdown",
   "metadata": {},
   "source": [
    "### Problem 1: Counting Word Bigrams"
   ]
  },
  {
   "cell_type": "markdown",
   "metadata": {},
   "source": [
    "### 1.1 \n",
    "#### Write a function count_bigrams_in_file."
   ]
  },
  {
   "cell_type": "code",
   "execution_count": 101,
   "metadata": {},
   "outputs": [],
   "source": [
    "import string\n",
    "def count_bigrams_in_file(file):\n",
    "    if type(file) != str:\n",
    "            raise TypeError('Input should be a string!')\n",
    "    try: \n",
    "        f = open(file,'r')\n",
    "        ctnt = f.read() # raw content of the file\n",
    "        ctnt = ctnt.lower()\n",
    "        ctnt = ctnt.translate(str.maketrans('','',string.punctuation)) # delete all punctuations\n",
    "        ctnt = ctnt.split()\n",
    "        f.close()\n",
    "        w_dict = dict() # create an empty dictionary\n",
    "        for i in range(len(ctnt)-1):\n",
    "            if (ctnt[i],ctnt[i+1]) not in w_dict:\n",
    "                w_dict[(ctnt[i],ctnt[i+1])] = 1\n",
    "            else:\n",
    "                w_dict[(ctnt[i],ctnt[i+1])] += 1\n",
    "        return w_dict\n",
    "    except:\n",
    "        raise FileNotFoundError('Sorry! There is no such file in current directory!')"
   ]
  },
  {
   "cell_type": "markdown",
   "metadata": {},
   "source": [
    "### 1.2\n",
    "#### Run your function on this file, and pickle the resulting dictionary in a file called mb.bigrams.pickle."
   ]
  },
  {
   "cell_type": "code",
   "execution_count": 116,
   "metadata": {},
   "outputs": [],
   "source": [
    "import pickle\n",
    "bigrams = count_bigrams_in_file(\"WandP.txt\")\n",
    "f2 = open(\"mb.bigrams.pickle\", \"wb\")\n",
    "pickle.dump(bigrams, f2)\n",
    "f2.close()"
   ]
  },
  {
   "cell_type": "markdown",
   "metadata": {},
   "source": [
    "### 1.3\n",
    "#### Write a function collocations that takes a filename as its only argument and returns a dictionary."
   ]
  },
  {
   "cell_type": "code",
   "execution_count": 132,
   "metadata": {},
   "outputs": [],
   "source": [
    "import string\n",
    "def collocations(file):\n",
    "    if type(file) != str:\n",
    "            raise TypeError('Input should be a string!')\n",
    "    try: \n",
    "        f = open(file,'r')\n",
    "        ctnt = f.read() # raw content of the file\n",
    "        ctnt = ctnt.lower()\n",
    "        ctnt = ctnt.translate(str.maketrans('','',string.punctuation)) # delete all punctuations\n",
    "        ctnt = ctnt.split()\n",
    "        f.close()\n",
    "        c_dict = dict() # create an empty dictionary\n",
    "        for i in range(len(ctnt)):\n",
    "            if ctnt[i] not in c_dict:\n",
    "                if i == 0:\n",
    "                    c_dict[ctnt[i]] = {ctnt[i+1]}\n",
    "                elif i == len(ctnt)-1:\n",
    "                    c_dict[ctnt[i]] = {ctnt[i-1]}\n",
    "                else:\n",
    "                    c_dict[ctnt[i]] = {ctnt[i-1],ctnt[i+1]}\n",
    "            else:\n",
    "                if i == len(ctnt)-1:\n",
    "                    c_dict[ctnt[i]].add(ctnt[i-1])\n",
    "                else: \n",
    "                    c_dict[ctnt[i]].update([ctnt[i-1],ctnt[i+1]])\n",
    "        return c_dict\n",
    "    except:\n",
    "        raise FileNotFoundError('Sorry! There is no such file in current directory!')"
   ]
  },
  {
   "cell_type": "markdown",
   "metadata": {},
   "source": [
    "### 1.4\n",
    "#### Run your function on the file WandP.txt and pickle the resulting dictionary in a file called mb.colloc.pickle."
   ]
  },
  {
   "cell_type": "code",
   "execution_count": 138,
   "metadata": {},
   "outputs": [],
   "source": [
    "import pickle\n",
    "colloc = collocations(\"WandP.txt\")\n",
    "f3 = open(\"mb.colloc.pickle\", \"wb\")\n",
    "pickle.dump(colloc, f3)\n",
    "f3.close()"
   ]
  },
  {
   "cell_type": "markdown",
   "metadata": {},
   "source": [
    "### Problem 2: More Fun with Vectors"
   ]
  },
  {
   "cell_type": "markdown",
   "metadata": {},
   "source": [
    "### 2.1\n",
    "#### Define a class Vector."
   ]
  },
  {
   "cell_type": "code",
   "execution_count": 171,
   "metadata": {},
   "outputs": [],
   "source": [
    "class Vector:\n",
    "    '''Define a vector'''\n",
    "    def __init__(self, dim, entry = []):\n",
    "        if type(dim) != int:\n",
    "            raise TypeError('Dimension should be an integer!')\n",
    "        elif dim < 0:\n",
    "            raise ValueError('Dimension cannot be negative!')\n",
    "        elif type(entry) != list:\n",
    "                raise TypeError('entry should be a list')\n",
    "        elif len(entry) != 0:\n",
    "            if dim != len(entry):\n",
    "                raise ValueError('Dimension should match the length of entries!') \n",
    "        elif len(entry) == 0:\n",
    "            entry = [0]*dim # When there is no input on entry, entry would be a list full of 0's.\n",
    "        self.dim = dim\n",
    "        self.entry = entry"
   ]
  },
  {
   "cell_type": "markdown",
   "metadata": {},
   "source": [
    "### 2.2\n",
    "#### Did you choose to make the vector’s entries a tuple or a list?"
   ]
  },
  {
   "cell_type": "markdown",
   "metadata": {},
   "source": [
    "### I choose to make entries a list. Because list is mutable which is very convenient to define more functions to do various calculations."
   ]
  },
  {
   "cell_type": "markdown",
   "metadata": {},
   "source": [
    "### 2.3\n",
    "#### Are the dimension and entries class attributes or instance attributes? Why is this the right design choice?"
   ]
  },
  {
   "cell_type": "markdown",
   "metadata": {},
   "source": [
    "### The dimension and the entries are instance attributes. Because under this design, we can make every instances different in dimension and entries. It makes no sense that vectors share some common values except their structures."
   ]
  },
  {
   "cell_type": "markdown",
   "metadata": {},
   "source": [
    "### 2.4\n",
    "#### Implement the necessary operator(s) to support comparison (equality, less than, less or equal to, greater than, etc) of Vector objects."
   ]
  },
  {
   "cell_type": "code",
   "execution_count": 184,
   "metadata": {},
   "outputs": [],
   "source": [
    "class Vector:\n",
    "    '''Define a vector'''\n",
    "    def __init__(self, dim, entry = []):\n",
    "        if type(dim) != int:\n",
    "            raise TypeError('Dimension should be an integer!')\n",
    "        elif dim < 0:\n",
    "            raise ValueError('Dimension cannot be negative!')\n",
    "        elif type(entry) != list:\n",
    "                raise TypeError('entry should be a list')\n",
    "        elif len(entry) != 0:\n",
    "            if dim != len(entry):\n",
    "                raise ValueError('Dimension should match the length of entries!') \n",
    "        elif len(entry) == 0:\n",
    "            entry = [0]*dim # When there is no input on entry, entry would be a list full of 0's.\n",
    "        self.dim = dim\n",
    "        self.entry = entry\n",
    "    def __eq__(self,other):\n",
    "        if self.dim != other.dim:\n",
    "            raise ValueError('Dimensions of two vectors should be same')\n",
    "        else:\n",
    "            return (self.entry == other.entry)\n",
    "    def __lt__(self,other):\n",
    "        if self.dim != other.dim:\n",
    "            raise ValueError('Dimensions of two vectors should be same')\n",
    "        else:\n",
    "            return (self.entry < other.entry)\n",
    "    def __gt__(self,other):\n",
    "        if self.dim != other.dim:\n",
    "            raise ValueError('Dimensions of two vectors should be same')\n",
    "        else:\n",
    "            return (self.entry > other.entry)\n",
    "    def __le__(self,other):\n",
    "        if self.dim != other.dim:\n",
    "            raise ValueError('Dimensions of two vectors should be same')\n",
    "        else:\n",
    "            return (self.entry <= other.entry)\n",
    "    def __ge__(self,other):\n",
    "        if self.dim != other.dim:\n",
    "            raise ValueError('Dimensions of two vectors should be same')\n",
    "        else:\n",
    "            return (self.entry >= other.entry)\n",
    "    def __ne__(self,other):\n",
    "        if self.dim != other.dim:\n",
    "            raise ValueError('Dimensions of two vectors should be same')\n",
    "        else:\n",
    "            return (self.entry != other.entry)"
   ]
  },
  {
   "cell_type": "markdown",
   "metadata": {},
   "source": [
    "### 2.5\n",
    "#### Implement a method Vector.dot that takes a single Vector as its argument and returns the inner product of the caller with the given Vector object. "
   ]
  },
  {
   "cell_type": "code",
   "execution_count": 191,
   "metadata": {},
   "outputs": [],
   "source": [
    "class Vector:\n",
    "    '''Define a vector'''\n",
    "    def __init__(self, dim, entry = []):\n",
    "        if type(dim) != int:\n",
    "            raise TypeError('Dimension should be an integer!')\n",
    "        elif dim < 0:\n",
    "            raise ValueError('Dimension cannot be negative!')\n",
    "        elif type(entry) != list:\n",
    "                raise TypeError('entry should be a list')\n",
    "        elif len(entry) != 0:\n",
    "            if dim != len(entry):\n",
    "                raise ValueError('Dimension should match the length of entries!') \n",
    "        elif len(entry) == 0:\n",
    "            entry = [0]*dim # When there is no input on entry, entry would be a list full of 0's.\n",
    "        self.dim = dim\n",
    "        self.entry = entry\n",
    "    def __eq__(self,other):\n",
    "        if self.dim != other.dim:\n",
    "            raise ValueError('Dimensions of two vectors should be same')\n",
    "        else:\n",
    "            return (self.entry == other.entry)\n",
    "    def __lt__(self,other):\n",
    "        if self.dim != other.dim:\n",
    "            raise ValueError('Dimensions of two vectors should be same')\n",
    "        else:\n",
    "            return (self.entry < other.entry)\n",
    "    def __gt__(self,other):\n",
    "        if self.dim != other.dim:\n",
    "            raise ValueError('Dimensions of two vectors should be same')\n",
    "        else:\n",
    "            return (self.entry > other.entry)\n",
    "    def __le__(self,other):\n",
    "        if self.dim != other.dim:\n",
    "            raise ValueError('Dimensions of two vectors should be same')\n",
    "        else:\n",
    "            return (self.entry <= other.entry)\n",
    "    def __ge__(self,other):\n",
    "        if self.dim != other.dim:\n",
    "            raise ValueError('Dimensions of two vectors should be same')\n",
    "        else:\n",
    "            return (self.entry >= other.entry)\n",
    "    def __ne__(self,other):\n",
    "        if self.dim != other.dim:\n",
    "            raise ValueError('Dimensions of two vectors should be same')\n",
    "        else:\n",
    "            return (self.entry != other.entry)\n",
    "    def dot(self, other):\n",
    "        if self.dim != other.dim:\n",
    "            raise ValueError('Dimensions of two vectors should be same')\n",
    "        else:\n",
    "            sum_v = 0\n",
    "            for (a,b) in zip(self.entry, other.entry):\n",
    "                sum_v += a*b\n",
    "        return sum_v"
   ]
  },
  {
   "cell_type": "markdown",
   "metadata": {},
   "source": [
    "### 2.6\n",
    "#### Implement the appropriate operators to support this multiplication operation."
   ]
  },
  {
   "cell_type": "code",
   "execution_count": 224,
   "metadata": {},
   "outputs": [],
   "source": [
    "class Vector:\n",
    "    '''Define a vector'''\n",
    "    def __init__(self, dim, entry = []):\n",
    "        if type(dim) != int:\n",
    "            raise TypeError('Dimension should be an integer!')\n",
    "        elif dim < 0:\n",
    "            raise ValueError('Dimension cannot be negative!')\n",
    "        elif type(entry) != list:\n",
    "                raise TypeError('entry should be a list')\n",
    "        elif len(entry) != 0:\n",
    "            if dim != len(entry):\n",
    "                raise ValueError('Dimension should match the length of entries!') \n",
    "        elif len(entry) == 0:\n",
    "            entry = [0]*dim # When there is no input on entry, entry would be a list full of 0's.\n",
    "        self.dim = dim\n",
    "        self.entry = entry\n",
    "    def __eq__(self,other):\n",
    "        if self.dim != other.dim:\n",
    "            raise ValueError('Dimensions of two vectors should be same')\n",
    "        else:\n",
    "            return (self.entry == other.entry)\n",
    "    def __lt__(self,other):\n",
    "        if self.dim != other.dim:\n",
    "            raise ValueError('Dimensions of two vectors should be same')\n",
    "        else:\n",
    "            return (self.entry < other.entry)\n",
    "    def __gt__(self,other):\n",
    "        if self.dim != other.dim:\n",
    "            raise ValueError('Dimensions of two vectors should be same')\n",
    "        else:\n",
    "            return (self.entry > other.entry)\n",
    "    def __le__(self,other):\n",
    "        if self.dim != other.dim:\n",
    "            raise ValueError('Dimensions of two vectors should be same')\n",
    "        else:\n",
    "            return (self.entry <= other.entry)\n",
    "    def __ge__(self,other):\n",
    "        if self.dim != other.dim:\n",
    "            raise ValueError('Dimensions of two vectors should be same')\n",
    "        else:\n",
    "            return (self.entry >= other.entry)\n",
    "    def __ne__(self,other):\n",
    "        if self.dim != other.dim:\n",
    "            raise ValueError('Dimensions of two vectors should be same')\n",
    "        else:\n",
    "            return (self.entry != other.entry)\n",
    "    def dot(self, other):\n",
    "        if self.dim != other.dim:\n",
    "            raise ValueError('Dimensions of two vectors should be same')\n",
    "        else:\n",
    "            sum_v = 0\n",
    "            for (a,b) in zip(self.entry, other.entry):\n",
    "                sum_v += a*b\n",
    "        return sum_v\n",
    "    def __mul__(self,other):\n",
    "        if type(other) in (int,float):\n",
    "            result = []\n",
    "            for i in range(self.dim):\n",
    "                result.append(self.entry[i]*other)\n",
    "            return Vector(self.dim, result)\n",
    "        elif type(other) == Vector:\n",
    "            if self.dim != other.dim:\n",
    "                raise ValueError('Dimensions of two vectors should be same')\n",
    "            else:\n",
    "                result = []\n",
    "                for i in range(self.dim):\n",
    "                    result.append(self.entry[i]*other.entry[i])\n",
    "                return Vector(self.dim, result)\n",
    "        else: \n",
    "            raise TypeError('Vector can only be multiplied by int, float or another Vector!')\n",
    "    def __rmul__(self,other):\n",
    "        '''define this for the situation that number is at left of Vector'''\n",
    "        return self.__mul__(other)"
   ]
  },
  {
   "cell_type": "markdown",
   "metadata": {},
   "source": [
    "### 2.7\n",
    "#### Implement a method Vector.norm that takes a single int or float p as an argument and returns the p-norm of the calling Vector object."
   ]
  },
  {
   "cell_type": "code",
   "execution_count": 233,
   "metadata": {},
   "outputs": [],
   "source": [
    "class Vector:\n",
    "    '''Define a vector'''\n",
    "    def __init__(self, dim, entry = []):\n",
    "        if type(dim) != int:\n",
    "            raise TypeError('Dimension should be an integer!')\n",
    "        elif dim < 0:\n",
    "            raise ValueError('Dimension cannot be negative!')\n",
    "        elif type(entry) != list:\n",
    "                raise TypeError('entry should be a list')\n",
    "        elif len(entry) != 0:\n",
    "            if dim != len(entry):\n",
    "                raise ValueError('Dimension should match the length of entries!') \n",
    "        elif len(entry) == 0:\n",
    "            entry = [0]*dim # When there is no input on entry, entry would be a list full of 0's.\n",
    "        self.dim = dim\n",
    "        self.entry = entry\n",
    "    def __eq__(self,other):\n",
    "        if self.dim != other.dim:\n",
    "            raise ValueError('Dimensions of two vectors should be same')\n",
    "        else:\n",
    "            return (self.entry == other.entry)\n",
    "    def __lt__(self,other):\n",
    "        if self.dim != other.dim:\n",
    "            raise ValueError('Dimensions of two vectors should be same')\n",
    "        else:\n",
    "            return (self.entry < other.entry)\n",
    "    def __gt__(self,other):\n",
    "        if self.dim != other.dim:\n",
    "            raise ValueError('Dimensions of two vectors should be same')\n",
    "        else:\n",
    "            return (self.entry > other.entry)\n",
    "    def __le__(self,other):\n",
    "        if self.dim != other.dim:\n",
    "            raise ValueError('Dimensions of two vectors should be same')\n",
    "        else:\n",
    "            return (self.entry <= other.entry)\n",
    "    def __ge__(self,other):\n",
    "        if self.dim != other.dim:\n",
    "            raise ValueError('Dimensions of two vectors should be same')\n",
    "        else:\n",
    "            return (self.entry >= other.entry)\n",
    "    def __ne__(self,other):\n",
    "        if self.dim != other.dim:\n",
    "            raise ValueError('Dimensions of two vectors should be same')\n",
    "        else:\n",
    "            return (self.entry != other.entry)\n",
    "    def dot(self, other):\n",
    "        if self.dim != other.dim:\n",
    "            raise ValueError('Dimensions of two vectors should be same')\n",
    "        else:\n",
    "            sum_v = 0\n",
    "            for (a,b) in zip(self.entry, other.entry):\n",
    "                sum_v += a*b\n",
    "        return sum_v\n",
    "    def __mul__(self,other):\n",
    "        if type(other) in (int,float):\n",
    "            result = []\n",
    "            for i in range(self.dim):\n",
    "                result.append(self.entry[i]*other)\n",
    "            return Vector(self.dim, result)\n",
    "        elif type(other) == Vector:\n",
    "            if self.dim != other.dim:\n",
    "                raise ValueError('Dimensions of two vectors should be same')\n",
    "            else:\n",
    "                result = []\n",
    "                for i in range(self.dim):\n",
    "                    result.append(self.entry[i]*other.entry[i])\n",
    "                return Vector(self.dim, result)\n",
    "        else: \n",
    "            raise TypeError('Vector can only be multiplied by int, float or another Vector!')\n",
    "    def __rmul__(self,other):\n",
    "        '''define this for the situation that number is at left of Vector'''\n",
    "        return self.__mul__(other)\n",
    "    def norm(self,p):\n",
    "        if not isinstance(p, (int,float)):\n",
    "            raise TypeError('Input number should be int or float!')\n",
    "        elif p<0:\n",
    "            raise ValueError('Input should not be negative!')\n",
    "        else:\n",
    "            if p == 0:\n",
    "                num = 0\n",
    "                for i in range(self.dim):\n",
    "                    if self.entry[i] != 0:\n",
    "                        num += 1\n",
    "                return num\n",
    "            elif p == float('infinity'):\n",
    "                num = self.entry[0]\n",
    "                for i in range(1,self.dim):\n",
    "                    if self.entry[i] > num:\n",
    "                        num = self.entry[i]\n",
    "                return num\n",
    "            else:\n",
    "                num = 0\n",
    "                for i in range(self.dim):\n",
    "                    num += abs(self.entry[i])**p\n",
    "                return num**(1/p)"
   ]
  }
 ],
 "metadata": {
  "kernelspec": {
   "display_name": "Python 3",
   "language": "python",
   "name": "python3"
  },
  "language_info": {
   "codemirror_mode": {
    "name": "ipython",
    "version": 3
   },
   "file_extension": ".py",
   "mimetype": "text/x-python",
   "name": "python",
   "nbconvert_exporter": "python",
   "pygments_lexer": "ipython3",
   "version": "3.7.1"
  }
 },
 "nbformat": 4,
 "nbformat_minor": 2
}
