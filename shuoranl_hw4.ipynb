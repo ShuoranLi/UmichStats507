{
 "cells": [
  {
   "cell_type": "markdown",
   "metadata": {},
   "source": [
    "## Stats507 Homework4, Winter 2019\n",
    "### Shuoran Li\n",
    "#### shuoranl@umich.edu\n",
    "\n",
    "I did not discuss problems with anyone else in the class on this homework.\n",
    "\n",
    "Problem 1 took me 50 min; Problem 2 took me 40 min; Problem 3 took me 20 min; Problem 4 took me 20 min."
   ]
  },
  {
   "cell_type": "markdown",
   "metadata": {},
   "source": [
    "### Problem 1: Iterators and Generators"
   ]
  },
  {
   "cell_type": "markdown",
   "metadata": {},
   "source": [
    "### 1.1 \n",
    "#### Define a class Fibo of iterators that enumerate the Fibonacci numbers."
   ]
  },
  {
   "cell_type": "code",
   "execution_count": 10,
   "metadata": {},
   "outputs": [],
   "source": [
    "class Fibo():\n",
    "    '''Iterators that enumerate the Fibonacci numbers'''\n",
    "    def __init__(self):\n",
    "        self.t = (1,0)\n",
    "    def __iter__(self):\n",
    "        return(self)\n",
    "    def __next__(self):\n",
    "        self.t = (self.t[1],self.t[0]+self.t[1])\n",
    "        return(self.t[0])"
   ]
  },
  {
   "cell_type": "markdown",
   "metadata": {},
   "source": [
    "### 1.2\n",
    "#### Define a class GenFibo of iterators that enumerate generalized Fibonacci numbers."
   ]
  },
  {
   "cell_type": "code",
   "execution_count": 13,
   "metadata": {},
   "outputs": [],
   "source": [
    "class GenFibo():\n",
    "    '''Iterators that enumerate generalized Fibonacci numbers.'''\n",
    "    def __init__(self, F0=0, F1=1):\n",
    "        self.F0 = F0\n",
    "        self.F1 = F1\n",
    "    def __next__(self):\n",
    "        num = self.F0\n",
    "        (self.F0,self.F1) = (self.F1,self.F0+self.F1)\n",
    "        return(num)\n",
    "    def __iter__(self):\n",
    "        return(self)"
   ]
  },
  {
   "cell_type": "markdown",
   "metadata": {},
   "source": [
    "### 1.3\n",
    "#### Define a generator primes that enumerates the prime numbers."
   ]
  },
  {
   "cell_type": "code",
   "execution_count": 11,
   "metadata": {},
   "outputs": [],
   "source": [
    "def primes():\n",
    "    n = 1\n",
    "    while True:\n",
    "        n += 1 \n",
    "        while any(n%i==0 for i in range(2,n)):\n",
    "            n += 1\n",
    "        yield n"
   ]
  },
  {
   "cell_type": "markdown",
   "metadata": {},
   "source": [
    "### 1.4\n",
    "#### Define a generator ulam that enumerates the Ulam numbers."
   ]
  },
  {
   "cell_type": "code",
   "execution_count": 43,
   "metadata": {},
   "outputs": [],
   "source": [
    "import itertools\n",
    "def ulam():\n",
    "    ind = 1\n",
    "    ulam_list = [1,2]\n",
    "    while True: \n",
    "        t = 0 #Count how many different distinct combinations can be added to a certain number\n",
    "        if ind == 1:\n",
    "            yield 1\n",
    "            ind += 1\n",
    "        elif ind == 2:\n",
    "            yield 2\n",
    "            ind += 1\n",
    "        else:\n",
    "            for (a,b) in itertools.combinations(ulam_list,2):\n",
    "                if (a+b)==ind:\n",
    "                    t+=1\n",
    "            if t != 1:\n",
    "                ind += 1\n",
    "            else:\n",
    "                ulam_list.append(ind)\n",
    "                yield ind\n",
    "                ind += 1"
   ]
  },
  {
   "cell_type": "markdown",
   "metadata": {},
   "source": [
    "### Problem 2: List Comprehensions and Generator Expressions"
   ]
  },
  {
   "cell_type": "markdown",
   "metadata": {},
   "source": [
    "### 2.1\n",
    "#### Write a list comprehension that enumerates the sequence $2^n$−1 for n=1,2,3,...,20."
   ]
  },
  {
   "cell_type": "code",
   "execution_count": 3,
   "metadata": {},
   "outputs": [],
   "source": [
    "pow2minus1=[2**n-1 for n in range(1,21)]"
   ]
  },
  {
   "cell_type": "markdown",
   "metadata": {},
   "source": [
    "### 2.2\n",
    "#### Write a generator expression that enumerates the Lazy Caterer’s sequence."
   ]
  },
  {
   "cell_type": "code",
   "execution_count": 5,
   "metadata": {},
   "outputs": [],
   "source": [
    "def gen_num():\n",
    "    n = 0\n",
    "    while True:\n",
    "        yield n\n",
    "        n += 1"
   ]
  },
  {
   "cell_type": "code",
   "execution_count": 6,
   "metadata": {},
   "outputs": [
    {
     "data": {
      "text/plain": [
       "[1.0, 2.0, 4.0, 7.0, 11.0, 16.0, 22.0, 29.0, 37.0, 46.0]"
      ]
     },
     "execution_count": 6,
     "metadata": {},
     "output_type": "execute_result"
    }
   ],
   "source": [
    "caterer = ((n**2+n+2)/2 for n in gen_num())\n",
    "[next(caterer) for _ in range(10)]"
   ]
  },
  {
   "cell_type": "markdown",
   "metadata": {},
   "source": [
    "### 2.3\n",
    "#### Write a generator expression that enumerates the tetrahedral numbers."
   ]
  },
  {
   "cell_type": "code",
   "execution_count": 7,
   "metadata": {},
   "outputs": [],
   "source": [
    "def gen_num_pos():\n",
    "    n = 1\n",
    "    while True:\n",
    "        yield n\n",
    "        n += 1"
   ]
  },
  {
   "cell_type": "code",
   "execution_count": 8,
   "metadata": {},
   "outputs": [
    {
     "data": {
      "text/plain": [
       "[1.0, 4.0, 10.0, 20.0, 35.0, 56.0, 84.0, 120.0, 165.0, 220.0]"
      ]
     },
     "execution_count": 8,
     "metadata": {},
     "output_type": "execute_result"
    }
   ],
   "source": [
    "tetra = ((n*(n+1)*(n+2)/6) for n in gen_num_pos())\n",
    "[next(tetra) for _ in range(10)]"
   ]
  },
  {
   "cell_type": "markdown",
   "metadata": {},
   "source": [
    "### Problem 3: Map, Filter and Reduce"
   ]
  },
  {
   "cell_type": "markdown",
   "metadata": {},
   "source": [
    "### 3.1\n",
    "#### Write a one-line expression that computes the sum of the first 10 even square numbers (starting from 4)."
   ]
  },
  {
   "cell_type": "code",
   "execution_count": 9,
   "metadata": {},
   "outputs": [],
   "source": [
    "import functools\n",
    "sum_of_even_squares = functools.reduce(lambda x,y:x+y, list(map(lambda x:4*x**2,range(1,11))))"
   ]
  },
  {
   "cell_type": "markdown",
   "metadata": {},
   "source": [
    "### 3.2\n",
    "####  Write a one-line expression that computes the product of the first 13 primes. You may use the primes generator that you defined above."
   ]
  },
  {
   "cell_type": "code",
   "execution_count": 12,
   "metadata": {},
   "outputs": [],
   "source": [
    "import functools\n",
    "primes_gen = primes()\n",
    "product_of_primes = functools.reduce(lambda x,y:x*y, [next(primes_gen) for _ in range(13)])"
   ]
  },
  {
   "cell_type": "markdown",
   "metadata": {},
   "source": [
    "### 3.3\n",
    "####  Write a one-line expression that computes the sum of the squares of the first 31 primes. You may use the primes generator that you defined above."
   ]
  },
  {
   "cell_type": "code",
   "execution_count": 13,
   "metadata": {},
   "outputs": [],
   "source": [
    "primes_gen_2 = primes()\n",
    "squared_primes = functools.reduce(lambda x,y:x+y**2, [next(primes_gen_2) for _ in range(31)])"
   ]
  },
  {
   "cell_type": "markdown",
   "metadata": {},
   "source": [
    "### 3.4\n",
    "####  Write a one-line expression that computes a list of the first twenty harmonic numbers. Recall that the n-th harmonic number is given by $H_n = \\sum^n_{k=1} 1/k$."
   ]
  },
  {
   "cell_type": "code",
   "execution_count": 16,
   "metadata": {},
   "outputs": [],
   "source": [
    "import itertools\n",
    "harmonics = list(itertools.accumulate(range(1,21), lambda x,y:x+1/y))"
   ]
  },
  {
   "cell_type": "markdown",
   "metadata": {},
   "source": [
    "### 3.5\n",
    "####  Write a one-line expression that computes the geometric mean of the first 12 tetrahedral numbers."
   ]
  },
  {
   "cell_type": "code",
   "execution_count": 18,
   "metadata": {},
   "outputs": [
    {
     "data": {
      "text/plain": [
       "44.4646678699531"
      ]
     },
     "execution_count": 18,
     "metadata": {},
     "output_type": "execute_result"
    }
   ],
   "source": [
    "tetrahedral = ((n*(n+1)*(n+2)/6) for n in gen_num_pos()) # Use the generator defined before\n",
    "tetra_geom = functools.reduce(lambda x,y:x*y**(1/12), [next(tetrahedral) for _ in range(12)])"
   ]
  },
  {
   "cell_type": "markdown",
   "metadata": {},
   "source": [
    "### Problem 4: Fun with Polynomials\n",
    "### 4.1\n",
    "#### Write a function make_poly that takes a list of numbers (ints and/or floats) coeffs as its only argument and returns a function p."
   ]
  },
  {
   "cell_type": "code",
   "execution_count": 30,
   "metadata": {},
   "outputs": [],
   "source": [
    "def make_poly(l):\n",
    "    '''Make polynomial function'''\n",
    "    def p(x,l=l):\n",
    "        result = 0\n",
    "        for i in range(len(l)):\n",
    "            result += l[i]*x**i\n",
    "        return(result)\n",
    "    return p "
   ]
  },
  {
   "cell_type": "markdown",
   "metadata": {},
   "source": [
    "### 4.2\n",
    "#### Write a function eval_poly that takes two lists of numbers (ints and/or floats), coeffs and args. coeffs encodes the coefficients of polynomial p, and your function should return the list of numbers (ints and/or floats) representing the result of evaluating the polynomial p on each of the elements in args, in order. "
   ]
  },
  {
   "cell_type": "code",
   "execution_count": 33,
   "metadata": {},
   "outputs": [],
   "source": [
    "def eval_poly(l,args):\n",
    "    return list(map(make_poly(l), args))"
   ]
  }
 ],
 "metadata": {
  "kernelspec": {
   "display_name": "Python 3",
   "language": "python",
   "name": "python3"
  },
  "language_info": {
   "codemirror_mode": {
    "name": "ipython",
    "version": 3
   },
   "file_extension": ".py",
   "mimetype": "text/x-python",
   "name": "python",
   "nbconvert_exporter": "python",
   "pygments_lexer": "ipython3",
   "version": "3.7.1"
  }
 },
 "nbformat": 4,
 "nbformat_minor": 2
}
