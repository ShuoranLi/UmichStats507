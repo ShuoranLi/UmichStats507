{
 "cells": [
  {
   "cell_type": "markdown",
   "metadata": {},
   "source": [
    "## Stats507 Homework7, Winter 2019\n",
    "### Shuoran Li\n",
    "#### shuoranl@umich.edu\n",
    "\n",
    "I did not discuss problems with anyone else in the class on this homework.\n",
    "\n",
    "Problem 1 took me 2 hours; Problem 2 took me 2 hours; Problem 3 took me 3 hours; Problem 4 took me 2 hours."
   ]
  },
  {
   "cell_type": "code",
   "execution_count": 379,
   "metadata": {},
   "outputs": [],
   "source": [
    "import urllib.request\n",
    "import re\n",
    "import matplotlib as mp\n",
    "import matplotlib.pyplot as plt\n",
    "from bs4 import BeautifulSoup\n",
    "import random\n",
    "import sqlite3"
   ]
  },
  {
   "cell_type": "markdown",
   "metadata": {},
   "source": [
    "### Problem 1: Regular Expressions: Warmup"
   ]
  },
  {
   "cell_type": "markdown",
   "metadata": {},
   "source": [
    "### 1.1 \n",
    "####  Use urllib to open the URL and read the file, and produce a list of ASCII strings so that each line of the file corresponds to an element of the list."
   ]
  },
  {
   "cell_type": "code",
   "execution_count": 380,
   "metadata": {},
   "outputs": [],
   "source": [
    "response = urllib.request.urlopen('http://www.greenteapress.com/thinkpython/code/words.txt')\n",
    "ascii_list = [i.decode('ascii')for i in response]"
   ]
  },
  {
   "cell_type": "code",
   "execution_count": 381,
   "metadata": {},
   "outputs": [
    {
     "data": {
      "text/plain": [
       "113809"
      ]
     },
     "execution_count": 381,
     "metadata": {},
     "output_type": "execute_result"
    }
   ],
   "source": [
    "# The number of words in the file\n",
    "len(ascii_list)"
   ]
  },
  {
   "cell_type": "markdown",
   "metadata": {},
   "source": [
    "### 1.2\n",
    "####  Look at the data"
   ]
  },
  {
   "cell_type": "markdown",
   "metadata": {},
   "source": [
    "### <span style=\"color:red\">I found the new line symbol is \\r\\n. So I guess the file should be created from a DOS/WINDOWS system<span>"
   ]
  },
  {
   "cell_type": "markdown",
   "metadata": {},
   "source": [
    "### 1.3\n",
    "#### Write a regular expression that matches any string containing exactly four consecutive consonants. Compile this regular expression, and assign it to a variable called four_consecutive_consonants. Use this regex to determine how many words from the list contain exactly four consecutive consonants."
   ]
  },
  {
   "cell_type": "code",
   "execution_count": 382,
   "metadata": {},
   "outputs": [
    {
     "data": {
      "text/plain": [
       "1629"
      ]
     },
     "execution_count": 382,
     "metadata": {},
     "output_type": "execute_result"
    }
   ],
   "source": [
    "word_list = [line.strip() for line in ascii_list]\n",
    "four_consecutive_consonants = re.compile(r'[^aeiouy]{4}')\n",
    "sum([four_consecutive_consonants.search(w) is not None for w in word_list])"
   ]
  },
  {
   "cell_type": "markdown",
   "metadata": {},
   "source": [
    "### 1.4\n",
    "#### Write a regular expression that matches any string that contains no instances of the letter e. Compile this regular expression, and assign it to a variable called gadsby"
   ]
  },
  {
   "cell_type": "code",
   "execution_count": 383,
   "metadata": {},
   "outputs": [
    {
     "data": {
      "text/plain": [
       "37641"
      ]
     },
     "execution_count": 383,
     "metadata": {},
     "output_type": "execute_result"
    }
   ],
   "source": [
    "gadsby = re.compile(r'^[^e]*$')\n",
    "sum([gadsby.search(w) is not None for w in word_list])"
   ]
  },
  {
   "cell_type": "markdown",
   "metadata": {},
   "source": [
    "### 1.5\n",
    "#### Write a regular expression that matches any string that begins and ends with a vowel and has no vowels in between."
   ]
  },
  {
   "cell_type": "code",
   "execution_count": 384,
   "metadata": {},
   "outputs": [
    {
     "data": {
      "text/plain": [
       "192"
      ]
     },
     "execution_count": 384,
     "metadata": {},
     "output_type": "execute_result"
    }
   ],
   "source": [
    "vowel_vowel = re.compile(r'^[aeiou][^aeiou]*[aeiou]$')\n",
    "sum([vowel_vowel.search(w) is not None for w in word_list])"
   ]
  },
  {
   "cell_type": "markdown",
   "metadata": {},
   "source": [
    "### 1.6\n",
    "#### Write a regular expression that matches any string whose last two characters are the first two characters in reverse order. "
   ]
  },
  {
   "cell_type": "code",
   "execution_count": 385,
   "metadata": {},
   "outputs": [
    {
     "data": {
      "text/plain": [
       "886"
      ]
     },
     "execution_count": 385,
     "metadata": {},
     "output_type": "execute_result"
    }
   ],
   "source": [
    "bookends = re.compile(r'^(\\w)\\1$|^(\\w).\\2$|^(\\w)(\\w).*\\4\\3$')\n",
    "sum([bookends.search(w) is not None for w in word_list])"
   ]
  },
  {
   "cell_type": "markdown",
   "metadata": {},
   "source": [
    "### <span style=\"color:red\"> Explanation: I use \"or ( | ) \" to create this regular expression. The first term deals with the 2-letter words, e.g.( 'aa' is valid ). The second term deals with 3-letter words, e.g.( 'aba' is valid). The third term deals with words of which the length is larger than 3. <span>"
   ]
  },
  {
   "cell_type": "markdown",
   "metadata": {},
   "source": [
    "### Problem 2: Exploring Internet Traffic with Regexes"
   ]
  },
  {
   "cell_type": "markdown",
   "metadata": {},
   "source": [
    "### 2.1\n",
    "#### Each line of this file corresponds to a single packet sent over the internet. How many packets are in this file? Save the answer in a variable n_packets."
   ]
  },
  {
   "cell_type": "code",
   "execution_count": 386,
   "metadata": {},
   "outputs": [
    {
     "data": {
      "text/plain": [
       "2263"
      ]
     },
     "execution_count": 386,
     "metadata": {},
     "output_type": "execute_result"
    }
   ],
   "source": [
    "SkypeIRC = open('SkypeIRC.txt')\n",
    "SkypeIRC_content = SkypeIRC.read()\n",
    "n_packets = file_content.count('\\n')\n",
    "SkypeIRC.close()\n",
    "n_packets"
   ]
  },
  {
   "cell_type": "markdown",
   "metadata": {},
   "source": [
    "### 2.2\n",
    "#### Use regular expressions to extract all the IP addresses from the file and collect them in a Python list. An IP address consists of four numbers, which are displayed as A.B.C.D where A,B,C and D are each numbers between 0 and 255. How many unique IP addresses appear in the data set? Save the answer in a variable ip_addresses"
   ]
  },
  {
   "cell_type": "code",
   "execution_count": 387,
   "metadata": {},
   "outputs": [
    {
     "data": {
      "text/plain": [
       "368"
      ]
     },
     "execution_count": 387,
     "metadata": {},
     "output_type": "execute_result"
    }
   ],
   "source": [
    "regex_ip = re.compile(r'((25[0-5]|2[0-4][0-9]|1[0-9][0-9]|[1-9][0-9]|[0-9])\\.(25[0-5]|2[0-4][0-9]|1[0-9][0-9]|[1-9][0-9]|[0-9])\\.(25[0-5]|2[0-4][0-9]|1[0-9][0-9]|[1-9][0-9]|[0-9])\\.(25[0-5]|2[0-4][0-9]|1[0-9][0-9]|[1-9][0-9]|[0-9]))')\n",
    "ip_addresses = [t[0] for t in regex_ip.findall(SkypeIRC_content)]\n",
    "len(set(ip_addresses))"
   ]
  },
  {
   "cell_type": "markdown",
   "metadata": {},
   "source": [
    "### 2.3\n",
    "#### Write a function called get_packets_by_regex that takes a single raw string as its argument and returns all lines of the input file that match the input raw string as a regular expression. So, for example, get_packets_by_regex(r’comcast’) will return all lines from the file containing the string ’comcast’. "
   ]
  },
  {
   "cell_type": "code",
   "execution_count": 388,
   "metadata": {},
   "outputs": [],
   "source": [
    "def get_packets_by_regex(rs):\n",
    "    if not isinstance(rs,str):\n",
    "        raise TypeError('Input should be a raw string')\n",
    "    regex = re.compile(rs)\n",
    "    file_list = SkypeIRC_content.split('\\n')\n",
    "    return [line for line in file_list if regex.search(line) is not None]"
   ]
  },
  {
   "cell_type": "markdown",
   "metadata": {},
   "source": [
    "### 2.4\n",
    "#### The second piece of text (i.e., non-whitespace) on each line is a time stamp, counting the time (in seconds) since the beginning of the traffic recording. Using matplotlib, create a plot displaying how many packets appeared in each second of the recording."
   ]
  },
  {
   "cell_type": "code",
   "execution_count": 389,
   "metadata": {},
   "outputs": [
    {
     "data": {
      "image/png": "[encoded data removed]",
      "text/plain": [
       "<Figure size 432x288 with 1 Axes>"
      ]
     },
     "metadata": {
      "needs_background": "light"
     },
     "output_type": "display_data"
    }
   ],
   "source": [
    "regex_time = re.compile(r'\\s\\d+\\.\\d+\\s')\n",
    "time_data = [float(num) for num in regex_time.findall(SkypeIRC_content)]\n",
    "time_range = int(time_data[-1])+1\n",
    "plt.hist(time_data,bins = range(time_range))\n",
    "plt.xlabel(\"time stamp\",fontsize = 14)\n",
    "plt.ylabel(\"number of packets\",fontsize = 14)\n",
    "plt.title('Internet traffic recording',fontsize = 15)\n",
    "_ = plt.show()"
   ]
  },
  {
   "cell_type": "markdown",
   "metadata": {},
   "source": [
    "### Problem 3: Retrieving Data from the Web"
   ]
  },
  {
   "cell_type": "markdown",
   "metadata": {},
   "source": [
    "### 3.1\n",
    "#### In your jupyter notebook, open the URL and read the HTML using either urllib or requests, and parse it with BeautifulSoup using the standard parser, html.parser. Have a look at the parsed HTML and find the climate data table, which will have the tag table and will contain a child tag th containing a string similar to Climate data for [Cityname] (normals YYYY-YYYY, extremes YYYY-YYYY). Find the node in the BeautifulSoup object corresponding to this table. What is the structure of this node of the tree (e.g., how many children does the table have, what are their tags, etc.)?"
   ]
  },
  {
   "cell_type": "code",
   "execution_count": 390,
   "metadata": {},
   "outputs": [],
   "source": [
    "Harbin = urllib.request.urlopen('https://en.wikipedia.org/wiki/Harbin')\n",
    "Harbin_parsed = BeautifulSoup(Harbin,'html.parser')\n",
    "num_children = len(Harbin_parsed.find('table',class_='wikitable collapsible').contents)"
   ]
  },
  {
   "cell_type": "code",
   "execution_count": 391,
   "metadata": {},
   "outputs": [
    {
     "name": "stdout",
     "output_type": "stream",
     "text": [
      "So there are 2 children, and the tag is tbody\n"
     ]
    }
   ],
   "source": [
    "print('So there are '+str(num_children)+' children, and the tag is tbody')"
   ]
  },
  {
   "cell_type": "markdown",
   "metadata": {},
   "source": [
    "### 3.2\n",
    "####  Write a function retrieve_climate_table that takes as its only argument a Wikipedia URL, and returns the BeautifulSoup object corresponding to the climate data table (if it exists in the page) and returns None if no such table exists on the page. "
   ]
  },
  {
   "cell_type": "code",
   "execution_count": 392,
   "metadata": {},
   "outputs": [],
   "source": [
    "def retrieve_climate_table(url):\n",
    "    if not isinstance(url,str):\n",
    "        raise TypeError('url should be a string!')\n",
    "    try:\n",
    "        webpage = urllib.request.urlopen(url)\n",
    "        web_parsed = BeautifulSoup(webpage,'html.parser')\n",
    "        all_tb = web_parsed.find_all('table')\n",
    "        regex = re.compile(r'Climate data for')\n",
    "        tb_climate = [tb for tb in all_tb if regex.search(tb.encode('utf-8').decode('utf-8')) is not None]\n",
    "        if len(tb_climate) == 0:\n",
    "            return None\n",
    "        else:\n",
    "            # choose one table arbitrarily\n",
    "            i = random.randint(0,len(tb_climate)-1)\n",
    "            return tb_climate[i]\n",
    "    except ValueError:\n",
    "        raise ValueError('Oops, fail to connect to this url, please check the validity!')"
   ]
  },
  {
   "cell_type": "code",
   "execution_count": 393,
   "metadata": {},
   "outputs": [
    {
     "data": {
      "text/plain": [
       "<table class=\"wikitable collapsible collapsed\" style=\"width:100%; text-align:center; line-height: 1.2em; margin:auto;\">\n",
       "<tbody><tr>\n",
       "<th colspan=\"14\">Climate data for Los Angeles (LAX), 1981–2010 normals, extremes 1944–present\n",
       "</th></tr>\n",
       "<tr>\n",
       "<th scope=\"row\">Month\n",
       "</th>\n",
       "<th scope=\"col\">Jan\n",
       "</th>\n",
       "<th scope=\"col\">Feb\n",
       "</th>\n",
       "<th scope=\"col\">Mar\n",
       "</th>\n",
       "<th scope=\"col\">Apr\n",
       "</th>\n",
       "<th scope=\"col\">May\n",
       "</th>\n",
       "<th scope=\"col\">Jun\n",
       "</th>\n",
       "<th scope=\"col\">Jul\n",
       "</th>\n",
       "<th scope=\"col\">Aug\n",
       "</th>\n",
       "<th scope=\"col\">Sep\n",
       "</th>\n",
       "<th scope=\"col\">Oct\n",
       "</th>\n",
       "<th scope=\"col\">Nov\n",
       "</th>\n",
       "<th scope=\"col\">Dec\n",
       "</th>\n",
       "<th scope=\"col\" style=\"border-left-width:medium\">Year\n",
       "</th></tr>\n",
       "<tr style=\"text-align: center;\">\n",
       "<th scope=\"row\" style=\"height: 16px;\">Record high °F (°C)\n",
       "</th>\n",
       "<td style=\"background: #FF3A00; color:#000000;\">91<br/>(33)\n",
       "</td>\n",
       "<td style=\"background: #FF3A00; color:#000000;\">92<br/>(33)\n",
       "</td>\n",
       "<td style=\"background: #FF2C00; color:#000000;\">95<br/>(35)\n",
       "</td>\n",
       "<td style=\"background: #FF2C00; color:#000000;\">95<br/>(35)\n",
       "</td>\n",
       "<td style=\"background: #FF3A00; color:#000000;\">91<br/>(33)\n",
       "</td>\n",
       "<td style=\"background: #FF1100; color:#FFFFFF;\">103<br/>(39)\n",
       "</td>\n",
       "<td style=\"background: #FF3300; color:#000000;\">93<br/>(34)\n",
       "</td>\n",
       "<td style=\"background: #FF1F00; color:#000000;\">98<br/>(37)\n",
       "</td>\n",
       "<td style=\"background: #FF0300; color:#FFFFFF;\">106<br/>(41)\n",
       "</td>\n",
       "<td style=\"background: #FF1800; color:#FFFFFF;\">101<br/>(38)\n",
       "</td>\n",
       "<td style=\"background: #FF1800; color:#FFFFFF;\">101<br/>(38)\n",
       "</td>\n",
       "<td style=\"background: #FF3300; color:#000000;\">94<br/>(34)\n",
       "</td>\n",
       "<td style=\"background: #FF0300; color:#FFFFFF; border-left-width:medium\">106<br/>(41)\n",
       "</td></tr>\n",
       "<tr style=\"text-align: center;\">\n",
       "<th scope=\"row\" style=\"height: 16px;\">Mean maximum °F (°C)\n",
       "</th>\n",
       "<td style=\"background: #FF6100; color:#000000;\">81.2<br/>(27.3)\n",
       "</td>\n",
       "<td style=\"background: #FF6200; color:#000000;\">81.0<br/>(27.2)\n",
       "</td>\n",
       "<td style=\"background: #FF6800; color:#000000;\">79.6<br/>(26.4)\n",
       "</td>\n",
       "<td style=\"background: #FF5800; color:#000000;\">83.4<br/>(28.6)\n",
       "</td>\n",
       "<td style=\"background: #FF6600; color:#000000;\">79.9<br/>(26.6)\n",
       "</td>\n",
       "<td style=\"background: #FF6600; color:#000000;\">80.0<br/>(26.7)\n",
       "</td>\n",
       "<td style=\"background: #FF5800; color:#000000;\">83.6<br/>(28.7)\n",
       "</td>\n",
       "<td style=\"background: #FF5000; color:#000000;\">85.7<br/>(29.8)\n",
       "</td>\n",
       "<td style=\"background: #FF3F00; color:#000000;\">90.1<br/>(32.3)\n",
       "</td>\n",
       "<td style=\"background: #FF4000; color:#000000;\">89.9<br/>(32.2)\n",
       "</td>\n",
       "<td style=\"background: #FF5100; color:#000000;\">85.5<br/>(29.7)\n",
       "</td>\n",
       "<td style=\"background: #FF6A00; color:#000000;\">78.9<br/>(26.1)\n",
       "</td>\n",
       "<td style=\"background: #FF2E00; color:#000000; border-left-width:medium\">94.7<br/>(34.8)\n",
       "</td></tr>\n",
       "<tr style=\"text-align: center;\">\n",
       "<th scope=\"row\" style=\"height: 16px;\">Average high °F (°C)\n",
       "</th>\n",
       "<td style=\"background: #FFA143; color:#000000;\">64.6<br/>(18.1)\n",
       "</td>\n",
       "<td style=\"background: #FFA246; color:#000000;\">64.3<br/>(17.9)\n",
       "</td>\n",
       "<td style=\"background: #FFA144; color:#000000;\">64.4<br/>(18.0)\n",
       "</td>\n",
       "<td style=\"background: #FF9A35; color:#000000;\">66.4<br/>(19.1)\n",
       "</td>\n",
       "<td style=\"background: #FF9327; color:#000000;\">68.1<br/>(20.1)\n",
       "</td>\n",
       "<td style=\"background: #FF8A16; color:#000000;\">70.6<br/>(21.4)\n",
       "</td>\n",
       "<td style=\"background: #FF7E00; color:#000000;\">73.8<br/>(23.2)\n",
       "</td>\n",
       "<td style=\"background: #FF7900; color:#000000;\">74.9<br/>(23.8)\n",
       "</td>\n",
       "<td style=\"background: #FF7A00; color:#000000;\">74.6<br/>(23.7)\n",
       "</td>\n",
       "<td style=\"background: #FF8206; color:#000000;\">72.5<br/>(22.5)\n",
       "</td>\n",
       "<td style=\"background: #FF9022; color:#000000;\">68.9<br/>(20.5)\n",
       "</td>\n",
       "<td style=\"background: #FFA143; color:#000000;\">64.6<br/>(18.1)\n",
       "</td>\n",
       "<td style=\"background: #FF9021; color:#000000; border-left-width:medium\">69.0<br/>(20.6)\n",
       "</td></tr>\n",
       "<tr style=\"text-align: center;\">\n",
       "<th scope=\"row\" style=\"height: 16px;\">Daily mean °F (°C)\n",
       "</th>\n",
       "<td style=\"background: #FFBF80; color:#000000;\">56.7<br/>(13.7)\n",
       "</td>\n",
       "<td style=\"background: #FFBE7D; color:#000000;\">57.1<br/>(13.9)\n",
       "</td>\n",
       "<td style=\"background: #FFBA76; color:#000000;\">58.0<br/>(14.4)\n",
       "</td>\n",
       "<td style=\"background: #FFB266; color:#000000;\">60.1<br/>(15.6)\n",
       "</td>\n",
       "<td style=\"background: #FFA851; color:#000000;\">62.7<br/>(17.1)\n",
       "</td>\n",
       "<td style=\"background: #FF9D3C; color:#000000;\">65.5<br/>(18.6)\n",
       "</td>\n",
       "<td style=\"background: #FF9123; color:#000000;\">68.8<br/>(20.4)\n",
       "</td>\n",
       "<td style=\"background: #FF8D1C; color:#000000;\">69.6<br/>(20.9)\n",
       "</td>\n",
       "<td style=\"background: #FF9022; color:#000000;\">68.9<br/>(20.5)\n",
       "</td>\n",
       "<td style=\"background: #FF9C39; color:#000000;\">65.9<br/>(18.8)\n",
       "</td>\n",
       "<td style=\"background: #FFAE5D; color:#000000;\">61.1<br/>(16.2)\n",
       "</td>\n",
       "<td style=\"background: #FFBF80; color:#000000;\">56.6<br/>(13.7)\n",
       "</td>\n",
       "<td style=\"background: #FFA852; color:#000000; border-left-width:medium\">62.6<br/>(17.0)\n",
       "</td></tr>\n",
       "<tr style=\"text-align: center;\">\n",
       "<th scope=\"row\" style=\"height: 16px;\">Average low °F (°C)\n",
       "</th>\n",
       "<td style=\"background: #FFDDBC; color:#000000;\">48.8<br/>(9.3)\n",
       "</td>\n",
       "<td style=\"background: #FFD9B3; color:#000000;\">50.0<br/>(10.0)\n",
       "</td>\n",
       "<td style=\"background: #FFD2A6; color:#000000;\">51.7<br/>(10.9)\n",
       "</td>\n",
       "<td style=\"background: #FFCA96; color:#000000;\">53.8<br/>(12.1)\n",
       "</td>\n",
       "<td style=\"background: #FFBC7A; color:#000000;\">57.3<br/>(14.1)\n",
       "</td>\n",
       "<td style=\"background: #FFB163; color:#000000;\">60.5<br/>(15.8)\n",
       "</td>\n",
       "<td style=\"background: #FFA44A; color:#000000;\">63.7<br/>(17.6)\n",
       "</td>\n",
       "<td style=\"background: #FFA246; color:#000000;\">64.3<br/>(17.9)\n",
       "</td>\n",
       "<td style=\"background: #FFA64E; color:#000000;\">63.2<br/>(17.3)\n",
       "</td>\n",
       "<td style=\"background: #FFB56B; color:#000000;\">59.3<br/>(15.2)\n",
       "</td>\n",
       "<td style=\"background: #FFCC9A; color:#000000;\">53.2<br/>(11.8)\n",
       "</td>\n",
       "<td style=\"background: #FFDDBC; color:#000000;\">48.7<br/>(9.3)\n",
       "</td>\n",
       "<td style=\"background: #FFC184; color:#000000; border-left-width:medium\">56.2<br/>(13.4)\n",
       "</td></tr>\n",
       "<tr style=\"text-align: center;\">\n",
       "<th scope=\"row\" style=\"height: 16px;\">Mean minimum °F (°C)\n",
       "</th>\n",
       "<td style=\"background: #FFFAF6; color:#000000;\">41.1<br/>(5.1)\n",
       "</td>\n",
       "<td style=\"background: #FFF6ED; color:#000000;\">42.5<br/>(5.8)\n",
       "</td>\n",
       "<td style=\"background: #FFEDDC; color:#000000;\">44.6<br/>(7.0)\n",
       "</td>\n",
       "<td style=\"background: #FFE2C6; color:#000000;\">47.5<br/>(8.6)\n",
       "</td>\n",
       "<td style=\"background: #FFCF9F; color:#000000;\">52.5<br/>(11.4)\n",
       "</td>\n",
       "<td style=\"background: #FFC184; color:#000000;\">56.2<br/>(13.4)\n",
       "</td>\n",
       "<td style=\"background: #FFB368; color:#000000;\">59.8<br/>(15.4)\n",
       "</td>\n",
       "<td style=\"background: #FFB061; color:#000000;\">60.6<br/>(15.9)\n",
       "</td>\n",
       "<td style=\"background: #FFB872; color:#000000;\">58.4<br/>(14.7)\n",
       "</td>\n",
       "<td style=\"background: #FFCE9E; color:#000000;\">52.7<br/>(11.5)\n",
       "</td>\n",
       "<td style=\"background: #FFEBD7; color:#000000;\">45.3<br/>(7.4)\n",
       "</td>\n",
       "<td style=\"background: #FFFCF9; color:#000000;\">40.9<br/>(4.9)\n",
       "</td>\n",
       "<td style=\"background: #FBFBFF; color:#000000; border-left-width:medium\">38.8<br/>(3.8)\n",
       "</td></tr>\n",
       "<tr style=\"text-align: center;\">\n",
       "<th scope=\"row\" style=\"height: 16px;\">Record low °F (°C)\n",
       "</th>\n",
       "<td style=\"background: #D6D6FF; color:#000000;\">27<br/>(−3)\n",
       "</td>\n",
       "<td style=\"background: #ECECFF; color:#000000;\">34<br/>(1)\n",
       "</td>\n",
       "<td style=\"background: #F1F1FF; color:#000000;\">35<br/>(2)\n",
       "</td>\n",
       "<td style=\"background: #FFF4EA; color:#000000;\">42<br/>(6)\n",
       "</td>\n",
       "<td style=\"background: #FFEDDC; color:#000000;\">45<br/>(7)\n",
       "</td>\n",
       "<td style=\"background: #FFDFC0; color:#000000;\">48<br/>(9)\n",
       "</td>\n",
       "<td style=\"background: #FFD2A5; color:#000000;\">52<br/>(11)\n",
       "</td>\n",
       "<td style=\"background: #FFD2A5; color:#000000;\">51<br/>(11)\n",
       "</td>\n",
       "<td style=\"background: #FFE6CE; color:#000000;\">47<br/>(8)\n",
       "</td>\n",
       "<td style=\"background: #FFF4EA; color:#000000;\">43<br/>(6)\n",
       "</td>\n",
       "<td style=\"background: #F6F6FF; color:#000000;\">38<br/>(3)\n",
       "</td>\n",
       "<td style=\"background: #E6E6FF; color:#000000;\">32<br/>(0)\n",
       "</td>\n",
       "<td style=\"background: #D6D6FF; color:#000000; border-left-width:medium\">27<br/>(−3)\n",
       "</td></tr>\n",
       "<tr style=\"text-align: center;\">\n",
       "<th scope=\"row\" style=\"height: 16px;\">Average rainfall inches (mm)\n",
       "</th>\n",
       "<td style=\"background: #9898FF; color:#000000;\">2.71<br/>(69)\n",
       "</td>\n",
       "<td style=\"background: #7777FF; color:#000000;\">3.25<br/>(83)\n",
       "</td>\n",
       "<td style=\"background: #B8B8FF; color:#000000;\">1.85<br/>(47)\n",
       "</td>\n",
       "<td style=\"background: #E3E3FF; color:#000000;\">0.70<br/>(18)\n",
       "</td>\n",
       "<td style=\"background: #F6F6FF; color:#000000;\">0.22<br/>(5.6)\n",
       "</td>\n",
       "<td style=\"background: #FBFBFF; color:#000000;\">0.08<br/>(2.0)\n",
       "</td>\n",
       "<td style=\"background: #FDFDFF; color:#000000;\">0.03<br/>(0.76)\n",
       "</td>\n",
       "<td style=\"background: #FDFDFF; color:#000000;\">0.05<br/>(1.3)\n",
       "</td>\n",
       "<td style=\"background: #F6F6FF; color:#000000;\">0.21<br/>(5.3)\n",
       "</td>\n",
       "<td style=\"background: #EAEAFF; color:#000000;\">0.56<br/>(14)\n",
       "</td>\n",
       "<td style=\"background: #D3D3FF; color:#000000;\">1.11<br/>(28)\n",
       "</td>\n",
       "<td style=\"background: #B1B1FF; color:#000000;\">2.05<br/>(52)\n",
       "</td>\n",
       "<td style=\"background: #D5D5FF; color:#000000; border-left-width:medium\">12.82<br/>(326)\n",
       "</td></tr>\n",
       "<tr style=\"text-align: center;\">\n",
       "<th scope=\"row\" style=\"height: 16px;\">Average rainy days <span class=\"nowrap\" style=\"font-size:90%;\">(≥ 0.01 in)</span>\n",
       "</th>\n",
       "<td style=\"background: #B4B4FF; color:#000000;\">6.0\n",
       "</td>\n",
       "<td style=\"background: #A5A5FF; color:#000000;\">6.6\n",
       "</td>\n",
       "<td style=\"background: #B7B7FF; color:#000000;\">5.8\n",
       "</td>\n",
       "<td style=\"background: #DBDBFF; color:#000000;\">2.8\n",
       "</td>\n",
       "<td style=\"background: #F0F0FF; color:#000000;\">1.2\n",
       "</td>\n",
       "<td style=\"background: #F7F7FF; color:#000000;\">0.6\n",
       "</td>\n",
       "<td style=\"background: #F8F8FF; color:#000000;\">0.5\n",
       "</td>\n",
       "<td style=\"background: #FBFBFF; color:#000000;\">0.3\n",
       "</td>\n",
       "<td style=\"background: #F2F2FF; color:#000000;\">1.0\n",
       "</td>\n",
       "<td style=\"background: #E2E2FF; color:#000000;\">2.3\n",
       "</td>\n",
       "<td style=\"background: #D3D3FF; color:#000000;\">3.4\n",
       "</td>\n",
       "<td style=\"background: #BEBEFF; color:#000000;\">5.2\n",
       "</td>\n",
       "<td style=\"background: #D9D9FF; color:#000000; border-left-width:medium\">35.7\n",
       "</td></tr>\n",
       "<tr style=\"text-align: center;\">\n",
       "<th scope=\"row\" style=\"height: 16px;\">Average <a href=\"/wiki/Relative_humidity\" title=\"Relative humidity\">relative humidity</a> (%)\n",
       "</th>\n",
       "<td style=\"background: #0C0CFF; color:#FFFFFF;\">63.4\n",
       "</td>\n",
       "<td style=\"background: #0000FA; color:#FFFFFF;\">67.9\n",
       "</td>\n",
       "<td style=\"background: #0000F0; color:#FFFFFF;\">70.5\n",
       "</td>\n",
       "<td style=\"background: #0000EE; color:#FFFFFF;\">71.0\n",
       "</td>\n",
       "<td style=\"background: #0000E2; color:#FFFFFF;\">74.0\n",
       "</td>\n",
       "<td style=\"background: #0000DB; color:#FFFFFF;\">75.9\n",
       "</td>\n",
       "<td style=\"background: #0000D9; color:#FFFFFF;\">76.6\n",
       "</td>\n",
       "<td style=\"background: #0000D9; color:#FFFFFF;\">76.6\n",
       "</td>\n",
       "<td style=\"background: #0000E2; color:#FFFFFF;\">74.2\n",
       "</td>\n",
       "<td style=\"background: #0000F0; color:#FFFFFF;\">70.5\n",
       "</td>\n",
       "<td style=\"background: #0404FF; color:#FFFFFF;\">65.5\n",
       "</td>\n",
       "<td style=\"background: #0E0EFF; color:#FFFFFF;\">62.9\n",
       "</td>\n",
       "<td style=\"background: #0000EF; color:#FFFFFF; border-left-width:medium\">70.8\n",
       "</td></tr>\n",
       "<tr>\n",
       "<td colspan=\"14\" style=\"text-align:center;font-size:95%;\">Source: NOAA (relative humidity 1961–1990)<sup class=\"reference\" id=\"cite_ref-Los_Angeles_NOAA_85-1\"><a href=\"#cite_note-Los_Angeles_NOAA-85\">[83]</a></sup><sup class=\"reference\" id=\"cite_ref-NOAA_txt_LAX_88-0\"><a href=\"#cite_note-NOAA_txt_LAX-88\">[86]</a></sup><sup class=\"reference\" id=\"cite_ref-RH_89-0\"><a href=\"#cite_note-RH-89\">[87]</a></sup>\n",
       "</td></tr></tbody></table>"
      ]
     },
     "execution_count": 393,
     "metadata": {},
     "output_type": "execute_result"
    }
   ],
   "source": [
    "retrieve_climate_table(\"https://en.wikipedia.org/wiki/Los_Angeles\")"
   ]
  },
  {
   "cell_type": "code",
   "execution_count": 394,
   "metadata": {},
   "outputs": [
    {
     "data": {
      "text/plain": [
       "<table class=\"wikitable collapsible collapsed\" style=\"width:100%; text-align:center; line-height: 1.2em; margin:auto;\">\n",
       "<tbody><tr>\n",
       "<th colspan=\"14\">Climate data for Boston (<a href=\"/wiki/Logan_International_Airport\" title=\"Logan International Airport\">Logan Airport</a>), 1981−2010 normals<sup class=\"reference\" id=\"cite_ref-110\"><a href=\"#cite_note-110\">[e]</a></sup>, extremes 1872−present<sup class=\"reference\" id=\"cite_ref-112\"><a href=\"#cite_note-112\">[f]</a></sup>\n",
       "</th></tr>\n",
       "<tr>\n",
       "<th scope=\"row\">Month\n",
       "</th>\n",
       "<th scope=\"col\">Jan\n",
       "</th>\n",
       "<th scope=\"col\">Feb\n",
       "</th>\n",
       "<th scope=\"col\">Mar\n",
       "</th>\n",
       "<th scope=\"col\">Apr\n",
       "</th>\n",
       "<th scope=\"col\">May\n",
       "</th>\n",
       "<th scope=\"col\">Jun\n",
       "</th>\n",
       "<th scope=\"col\">Jul\n",
       "</th>\n",
       "<th scope=\"col\">Aug\n",
       "</th>\n",
       "<th scope=\"col\">Sep\n",
       "</th>\n",
       "<th scope=\"col\">Oct\n",
       "</th>\n",
       "<th scope=\"col\">Nov\n",
       "</th>\n",
       "<th scope=\"col\">Dec\n",
       "</th>\n",
       "<th scope=\"col\" style=\"border-left-width:medium\">Year\n",
       "</th></tr>\n",
       "<tr style=\"text-align: center;\">\n",
       "<th scope=\"row\" style=\"height: 16px;\">Record high °F (°C)\n",
       "</th>\n",
       "<td style=\"background: #FF860D; color:#000000;\">72<br/>(22)\n",
       "</td>\n",
       "<td style=\"background: #FF7F00; color:#000000;\">73<br/>(23)\n",
       "</td>\n",
       "<td style=\"background: #FF4100; color:#000000;\">89<br/>(32)\n",
       "</td>\n",
       "<td style=\"background: #FF3300; color:#000000;\">94<br/>(34)\n",
       "</td>\n",
       "<td style=\"background: #FF2500; color:#000000;\">97<br/>(36)\n",
       "</td>\n",
       "<td style=\"background: #FF1800; color:#FFFFFF;\">100<br/>(38)\n",
       "</td>\n",
       "<td style=\"background: #FF0A00; color:#FFFFFF;\">104<br/>(40)\n",
       "</td>\n",
       "<td style=\"background: #FF1100; color:#FFFFFF;\">102<br/>(39)\n",
       "</td>\n",
       "<td style=\"background: #FF1100; color:#FFFFFF;\">102<br/>(39)\n",
       "</td>\n",
       "<td style=\"background: #FF4100; color:#000000;\">90<br/>(32)\n",
       "</td>\n",
       "<td style=\"background: #FF5D00; color:#000000;\">83<br/>(28)\n",
       "</td>\n",
       "<td style=\"background: #FF7800; color:#000000;\">76<br/>(24)\n",
       "</td>\n",
       "<td style=\"background: #FF0A00; color:#FFFFFF; border-left-width:medium\">104<br/>(40)\n",
       "</td></tr>\n",
       "<tr style=\"text-align: center;\">\n",
       "<th scope=\"row\" style=\"height: 16px;\">Mean maximum °F (°C)\n",
       "</th>\n",
       "<td style=\"background: #FFC081; color:#000000;\">56.4<br/>(13.6)\n",
       "</td>\n",
       "<td style=\"background: #FFBB77; color:#000000;\">57.7<br/>(14.3)\n",
       "</td>\n",
       "<td style=\"background: #FF952C; color:#000000;\">67.6<br/>(19.8)\n",
       "</td>\n",
       "<td style=\"background: #FF6300; color:#000000;\">80.7<br/>(27.1)\n",
       "</td>\n",
       "<td style=\"background: #FF4A00; color:#000000;\">87.3<br/>(30.7)\n",
       "</td>\n",
       "<td style=\"background: #FF3700; color:#000000;\">92.1<br/>(33.4)\n",
       "</td>\n",
       "<td style=\"background: #FF2D00; color:#000000;\">94.9<br/>(34.9)\n",
       "</td>\n",
       "<td style=\"background: #FF3200; color:#000000;\">93.3<br/>(34.1)\n",
       "</td>\n",
       "<td style=\"background: #FF4700; color:#000000;\">87.9<br/>(31.1)\n",
       "</td>\n",
       "<td style=\"background: #FF6900; color:#000000;\">79.1<br/>(26.2)\n",
       "</td>\n",
       "<td style=\"background: #FF8A16; color:#000000;\">70.5<br/>(21.4)\n",
       "</td>\n",
       "<td style=\"background: #FFAD5C; color:#000000;\">61.3<br/>(16.3)\n",
       "</td>\n",
       "<td style=\"background: #FF2700; color:#000000; border-left-width:medium\">96.2<br/>(35.7)\n",
       "</td></tr>\n",
       "<tr style=\"text-align: center;\">\n",
       "<th scope=\"row\" style=\"height: 16px;\">Average high °F (°C)\n",
       "</th>\n",
       "<td style=\"background: #F2F2FF; color:#000000;\">35.8<br/>(2.1)\n",
       "</td>\n",
       "<td style=\"background: #FAFAFF; color:#000000;\">38.7<br/>(3.7)\n",
       "</td>\n",
       "<td style=\"background: #FFEBD7; color:#000000;\">45.4<br/>(7.4)\n",
       "</td>\n",
       "<td style=\"background: #FFC388; color:#000000;\">55.6<br/>(13.1)\n",
       "</td>\n",
       "<td style=\"background: #FF9B38; color:#000000;\">66.0<br/>(18.9)\n",
       "</td>\n",
       "<td style=\"background: #FF7500; color:#000000;\">75.9<br/>(24.4)\n",
       "</td>\n",
       "<td style=\"background: #FF6100; color:#000000;\">81.4<br/>(27.4)\n",
       "</td>\n",
       "<td style=\"background: #FF6800; color:#000000;\">79.6<br/>(26.4)\n",
       "</td>\n",
       "<td style=\"background: #FF8308; color:#000000;\">72.4<br/>(22.4)\n",
       "</td>\n",
       "<td style=\"background: #FFAD5C; color:#000000;\">61.4<br/>(16.3)\n",
       "</td>\n",
       "<td style=\"background: #FFD3A8; color:#000000;\">51.5<br/>(10.8)\n",
       "</td>\n",
       "<td style=\"background: #FFFAF6; color:#000000;\">41.2<br/>(5.1)\n",
       "</td>\n",
       "<td style=\"background: #FFB76F; color:#000000; border-left-width:medium\">58.8<br/>(14.9)\n",
       "</td></tr>\n",
       "<tr style=\"text-align: center;\">\n",
       "<th scope=\"row\" style=\"height: 16px;\">Daily mean °F (°C)\n",
       "</th>\n",
       "<td style=\"background: #DDDDFF; color:#000000;\">29.0<br/>(−1.7)\n",
       "</td>\n",
       "<td style=\"background: #E5E5FF; color:#000000;\">31.7<br/>(−0.2)\n",
       "</td>\n",
       "<td style=\"background: #F9F9FF; color:#000000;\">38.3<br/>(3.5)\n",
       "</td>\n",
       "<td style=\"background: #FFE0C2; color:#000000;\">48.1<br/>(8.9)\n",
       "</td>\n",
       "<td style=\"background: #FFBA76; color:#000000;\">57.9<br/>(14.4)\n",
       "</td>\n",
       "<td style=\"background: #FF952C; color:#000000;\">67.7<br/>(19.8)\n",
       "</td>\n",
       "<td style=\"background: #FF7F00; color:#000000;\">73.4<br/>(23.0)\n",
       "</td>\n",
       "<td style=\"background: #FF8409; color:#000000;\">72.1<br/>(22.3)\n",
       "</td>\n",
       "<td style=\"background: #FF9F40; color:#000000;\">64.9<br/>(18.3)\n",
       "</td>\n",
       "<td style=\"background: #FFC994; color:#000000;\">54.0<br/>(12.2)\n",
       "</td>\n",
       "<td style=\"background: #FFEDDB; color:#000000;\">44.7<br/>(7.1)\n",
       "</td>\n",
       "<td style=\"background: #EEEEFF; color:#000000;\">34.7<br/>(1.5)\n",
       "</td>\n",
       "<td style=\"background: #FFD3A8; color:#000000; border-left-width:medium\">51.5<br/>(10.8)\n",
       "</td></tr>\n",
       "<tr style=\"text-align: center;\">\n",
       "<th scope=\"row\" style=\"height: 16px;\">Average low °F (°C)\n",
       "</th>\n",
       "<td style=\"background: #C9C9FF; color:#000000;\">22.2<br/>(−5.4)\n",
       "</td>\n",
       "<td style=\"background: #D0D0FF; color:#000000;\">24.7<br/>(−4.1)\n",
       "</td>\n",
       "<td style=\"background: #E4E4FF; color:#000000;\">31.1<br/>(−0.5)\n",
       "</td>\n",
       "<td style=\"background: #FFFCFA; color:#000000;\">40.6<br/>(4.8)\n",
       "</td>\n",
       "<td style=\"background: #FFD9B4; color:#000000;\">49.9<br/>(9.9)\n",
       "</td>\n",
       "<td style=\"background: #FFB46A; color:#000000;\">59.5<br/>(15.3)\n",
       "</td>\n",
       "<td style=\"background: #FF9D3C; color:#000000;\">65.4<br/>(18.6)\n",
       "</td>\n",
       "<td style=\"background: #FFA143; color:#000000;\">64.6<br/>(18.1)\n",
       "</td>\n",
       "<td style=\"background: #FFBC7A; color:#000000;\">57.4<br/>(14.1)\n",
       "</td>\n",
       "<td style=\"background: #FFE6CD; color:#000000;\">46.5<br/>(8.1)\n",
       "</td>\n",
       "<td style=\"background: #F8F8FF; color:#000000;\">38.0<br/>(3.3)\n",
       "</td>\n",
       "<td style=\"background: #DBDBFF; color:#000000;\">28.2<br/>(−2.1)\n",
       "</td>\n",
       "<td style=\"background: #FFEFE0; color:#000000; border-left-width:medium\">44.1<br/>(6.7)\n",
       "</td></tr>\n",
       "<tr style=\"text-align: center;\">\n",
       "<th scope=\"row\" style=\"height: 16px;\">Mean minimum °F (°C)\n",
       "</th>\n",
       "<td style=\"background: #9393FF; color:#000000;\">4.1<br/>(−15.5)\n",
       "</td>\n",
       "<td style=\"background: #A0A0FF; color:#000000;\">8.5<br/>(−13.1)\n",
       "</td>\n",
       "<td style=\"background: #B2B2FF; color:#000000;\">14.7<br/>(−9.6)\n",
       "</td>\n",
       "<td style=\"background: #E2E2FF; color:#000000;\">30.7<br/>(−0.7)\n",
       "</td>\n",
       "<td style=\"background: #FFFCF9; color:#000000;\">40.8<br/>(4.9)\n",
       "</td>\n",
       "<td style=\"background: #FFDAB5; color:#000000;\">49.6<br/>(9.8)\n",
       "</td>\n",
       "<td style=\"background: #FFBC7A; color:#000000;\">57.3<br/>(14.1)\n",
       "</td>\n",
       "<td style=\"background: #FFC489; color:#000000;\">55.4<br/>(13.0)\n",
       "</td>\n",
       "<td style=\"background: #FFE8D2; color:#000000;\">45.8<br/>(7.7)\n",
       "</td>\n",
       "<td style=\"background: #EFEFFF; color:#000000;\">34.9<br/>(1.6)\n",
       "</td>\n",
       "<td style=\"background: #CFCFFF; color:#000000;\">24.2<br/>(−4.3)\n",
       "</td>\n",
       "<td style=\"background: #A8A8FF; color:#000000;\">11.1<br/>(−11.6)\n",
       "</td>\n",
       "<td style=\"background: #8D8DFF; color:#000000; border-left-width:medium\">2.3<br/>(−16.5)\n",
       "</td></tr>\n",
       "<tr style=\"text-align: center;\">\n",
       "<th scope=\"row\" style=\"height: 16px;\">Record low °F (°C)\n",
       "</th>\n",
       "<td style=\"background: #5F5FFF; color:#FFFFFF;\">−13<br/>(−25)\n",
       "</td>\n",
       "<td style=\"background: #4F4FFF; color:#FFFFFF;\">−18<br/>(−28)\n",
       "</td>\n",
       "<td style=\"background: #6F6FFF; color:#000000;\">−8<br/>(−22)\n",
       "</td>\n",
       "<td style=\"background: #A5A5FF; color:#000000;\">11<br/>(−12)\n",
       "</td>\n",
       "<td style=\"background: #E1E1FF; color:#000000;\">31<br/>(−1)\n",
       "</td>\n",
       "<td style=\"background: #FFFBF8; color:#000000;\">41<br/>(5)\n",
       "</td>\n",
       "<td style=\"background: #FFD9B3; color:#000000;\">50<br/>(10)\n",
       "</td>\n",
       "<td style=\"background: #FFE6CE; color:#000000;\">46<br/>(8)\n",
       "</td>\n",
       "<td style=\"background: #ECECFF; color:#000000;\">34<br/>(1)\n",
       "</td>\n",
       "<td style=\"background: #D1D1FF; color:#000000;\">25<br/>(−4)\n",
       "</td>\n",
       "<td style=\"background: #8080FF; color:#000000;\">−2<br/>(−19)\n",
       "</td>\n",
       "<td style=\"background: #5555FF; color:#FFFFFF;\">−17<br/>(−27)\n",
       "</td>\n",
       "<td style=\"background: #4F4FFF; color:#FFFFFF; border-left-width:medium\">−18<br/>(−28)\n",
       "</td></tr>\n",
       "<tr style=\"text-align: center;\">\n",
       "<th scope=\"row\" style=\"height: 16px;\">Average <a href=\"/wiki/Precipitation\" title=\"Precipitation\">precipitation</a> inches (mm)\n",
       "</th>\n",
       "<td style=\"background: #80FF80; color:#000000;\">3.36<br/>(85)\n",
       "</td>\n",
       "<td style=\"background: #77FF77; color:#000000;\">3.25<br/>(83)\n",
       "</td>\n",
       "<td style=\"background: #5BFF5B; color:#000000;\">4.32<br/>(110)\n",
       "</td>\n",
       "<td style=\"background: #6CFF6C; color:#000000;\">3.74<br/>(95)\n",
       "</td>\n",
       "<td style=\"background: #7AFF7A; color:#000000;\">3.49<br/>(89)\n",
       "</td>\n",
       "<td style=\"background: #6FFF6F; color:#000000;\">3.68<br/>(93)\n",
       "</td>\n",
       "<td style=\"background: #7DFF7D; color:#000000;\">3.43<br/>(87)\n",
       "</td>\n",
       "<td style=\"background: #80FF80; color:#000000;\">3.35<br/>(85)\n",
       "</td>\n",
       "<td style=\"background: #79FF79; color:#000000;\">3.44<br/>(87)\n",
       "</td>\n",
       "<td style=\"background: #69FF69; color:#000000;\">3.94<br/>(100)\n",
       "</td>\n",
       "<td style=\"background: #63FF63; color:#000000;\">3.99<br/>(101)\n",
       "</td>\n",
       "<td style=\"background: #6FFF6F; color:#000000;\">3.78<br/>(96)\n",
       "</td>\n",
       "<td style=\"background: #72FF72; color:#000000; border-left-width:medium\">43.77<br/>(1,112)\n",
       "</td></tr>\n",
       "<tr style=\"text-align: center;\">\n",
       "<th scope=\"row\" style=\"height: 16px;\">Average snowfall inches (cm)\n",
       "</th>\n",
       "<td style=\"background: #000030; color:#FFFFFF;\">12.9<br/>(33)\n",
       "</td>\n",
       "<td style=\"background: #000034; color:#FFFFFF;\">10.9<br/>(28)\n",
       "</td>\n",
       "<td style=\"background: #0000D3; color:#FFFFFF;\">7.8<br/>(20)\n",
       "</td>\n",
       "<td style=\"background: #B5B5FF; color:#000000;\">1.9<br/>(4.8)\n",
       "</td>\n",
       "<td style=\"background: #FFFFFF; color:#000000;\">0<br/>(0)\n",
       "</td>\n",
       "<td style=\"background: #FFFFFF; color:#000000;\">0<br/>(0)\n",
       "</td>\n",
       "<td style=\"background: #FFFFFF; color:#000000;\">0<br/>(0)\n",
       "</td>\n",
       "<td style=\"background: #FFFFFF; color:#000000;\">0<br/>(0)\n",
       "</td>\n",
       "<td style=\"background: #FFFFFF; color:#000000;\">0<br/>(0)\n",
       "</td>\n",
       "<td style=\"background: #FFFFFF; color:#000000;\">—\n",
       "</td>\n",
       "<td style=\"background: #CCCCFF; color:#000000;\">1.3<br/>(3.3)\n",
       "</td>\n",
       "<td style=\"background: #0000A7; color:#FFFFFF;\">9.0<br/>(23)\n",
       "</td>\n",
       "<td style=\"background: #7272FF; color:#FFFFFF; border-left-width:medium\">43.8<br/>(111)\n",
       "</td></tr>\n",
       "<tr style=\"text-align: center;\">\n",
       "<th scope=\"row\" style=\"height: 16px;\">Average precipitation days <span class=\"nowrap\" style=\"font-size:90%;\">(≥ 0.01 in)</span>\n",
       "</th>\n",
       "<td style=\"background: #7373FF; color:#000000;\">11.3\n",
       "</td>\n",
       "<td style=\"background: #7A7AFF; color:#000000;\">9.8\n",
       "</td>\n",
       "<td style=\"background: #6F6FFF; color:#000000;\">11.6\n",
       "</td>\n",
       "<td style=\"background: #7070FF; color:#000000;\">11.2\n",
       "</td>\n",
       "<td style=\"background: #6A6AFF; color:#000000;\">12.0\n",
       "</td>\n",
       "<td style=\"background: #7474FF; color:#000000;\">10.9\n",
       "</td>\n",
       "<td style=\"background: #8888FF; color:#000000;\">9.6\n",
       "</td>\n",
       "<td style=\"background: #8B8BFF; color:#000000;\">9.4\n",
       "</td>\n",
       "<td style=\"background: #9191FF; color:#000000;\">8.6\n",
       "</td>\n",
       "<td style=\"background: #8B8BFF; color:#000000;\">9.4\n",
       "</td>\n",
       "<td style=\"background: #7777FF; color:#000000;\">10.6\n",
       "</td>\n",
       "<td style=\"background: #6F6FFF; color:#000000;\">11.6\n",
       "</td>\n",
       "<td style=\"background: #7B7BFF; color:#000000; border-left-width:medium\">126.0\n",
       "</td></tr>\n",
       "<tr style=\"text-align: center;\">\n",
       "<th scope=\"row\" style=\"height: 16px;\">Average snowy days <span class=\"nowrap\" style=\"font-size:90%;\">(≥ 0.1 in)</span>\n",
       "</th>\n",
       "<td style=\"background: #ACACFF; color:#000000;\">6.7\n",
       "</td>\n",
       "<td style=\"background: #B7B7FF; color:#000000;\">5.3\n",
       "</td>\n",
       "<td style=\"background: #CBCBFF; color:#000000;\">4.2\n",
       "</td>\n",
       "<td style=\"background: #F6F6FF; color:#000000;\">0.7\n",
       "</td>\n",
       "<td style=\"background: #FFFFFF; color:#000000;\">0\n",
       "</td>\n",
       "<td style=\"background: #FFFFFF; color:#000000;\">0\n",
       "</td>\n",
       "<td style=\"background: #FFFFFF; color:#000000;\">0\n",
       "</td>\n",
       "<td style=\"background: #FFFFFF; color:#000000;\">0\n",
       "</td>\n",
       "<td style=\"background: #FFFFFF; color:#000000;\">0\n",
       "</td>\n",
       "<td style=\"background: #FDFDFF; color:#000000;\">0.1\n",
       "</td>\n",
       "<td style=\"background: #F4F4FF; color:#000000;\">0.8\n",
       "</td>\n",
       "<td style=\"background: #C6C6FF; color:#000000;\">4.6\n",
       "</td>\n",
       "<td style=\"background: #E7E7FF; color:#000000; border-left-width:medium\">22.4\n",
       "</td></tr>\n",
       "<tr style=\"text-align: center;\">\n",
       "<th scope=\"row\" style=\"height: 16px;\">Average <a href=\"/wiki/Relative_humidity\" title=\"Relative humidity\">relative humidity</a> (%)\n",
       "</th>\n",
       "<td style=\"background: #1010FF; color:#FFFFFF;\">62.3\n",
       "</td>\n",
       "<td style=\"background: #1111FF; color:#FFFFFF;\">62.0\n",
       "</td>\n",
       "<td style=\"background: #0D0DFF; color:#FFFFFF;\">63.1\n",
       "</td>\n",
       "<td style=\"background: #0E0EFF; color:#FFFFFF;\">63.0\n",
       "</td>\n",
       "<td style=\"background: #0000FE; color:#FFFFFF;\">66.7\n",
       "</td>\n",
       "<td style=\"background: #0000F7; color:#FFFFFF;\">68.5\n",
       "</td>\n",
       "<td style=\"background: #0000F8; color:#FFFFFF;\">68.4\n",
       "</td>\n",
       "<td style=\"background: #0000EF; color:#FFFFFF;\">70.8\n",
       "</td>\n",
       "<td style=\"background: #0000EB; color:#FFFFFF;\">71.8\n",
       "</td>\n",
       "<td style=\"background: #0000F7; color:#FFFFFF;\">68.5\n",
       "</td>\n",
       "<td style=\"background: #0000FB; color:#FFFFFF;\">67.5\n",
       "</td>\n",
       "<td style=\"background: #0404FF; color:#FFFFFF;\">65.4\n",
       "</td>\n",
       "<td style=\"background: #0000FF; color:#FFFFFF; border-left-width:medium\">66.5\n",
       "</td></tr>\n",
       "<tr style=\"text-align: center;\">\n",
       "<th scope=\"row\" style=\"height: 16px;\">Mean monthly <a href=\"/wiki/Sunshine_duration\" title=\"Sunshine duration\">sunshine hours</a>\n",
       "</th>\n",
       "<td style=\"background: #CACA00; color:#000000;\">163.4\n",
       "</td>\n",
       "<td style=\"background: #D3D300; color:#000000;\">168.4\n",
       "</td>\n",
       "<td style=\"background: #DADA00; color:#000000;\">213.7\n",
       "</td>\n",
       "<td style=\"background: #DFDF00; color:#000000;\">227.2\n",
       "</td>\n",
       "<td style=\"background: #E7E700; color:#000000;\">267.3\n",
       "</td>\n",
       "<td style=\"background: #EDED09; color:#000000;\">286.5\n",
       "</td>\n",
       "<td style=\"background: #EEEE0C; color:#000000;\">300.9\n",
       "</td>\n",
       "<td style=\"background: #E9E900; color:#000000;\">277.3\n",
       "</td>\n",
       "<td style=\"background: #E1E100; color:#000000;\">237.1\n",
       "</td>\n",
       "<td style=\"background: #D9D900; color:#000000;\">206.3\n",
       "</td>\n",
       "<td style=\"background: #C3C313; color:#000000;\">143.2\n",
       "</td>\n",
       "<td style=\"background: #C0C022; color:#000000;\">142.3\n",
       "</td>\n",
       "<td style=\"background: #DDDD00; color:#000000; border-left-width:medium\">2,633.6\n",
       "</td></tr>\n",
       "<tr style=\"text-align: center;\">\n",
       "<th scope=\"row\" style=\"height: 16px;\">Percent <a href=\"/wiki/Sunshine_duration\" title=\"Sunshine duration\">possible sunshine</a>\n",
       "</th>\n",
       "<td style=\"background: #FFFF4B; color:#000000;\">56\n",
       "</td>\n",
       "<td style=\"background: #FFFF4F; color:#000000;\">57\n",
       "</td>\n",
       "<td style=\"background: #FFFF53; color:#000000;\">58\n",
       "</td>\n",
       "<td style=\"background: #FFFF4F; color:#000000;\">57\n",
       "</td>\n",
       "<td style=\"background: #FFFF57; color:#000000;\">59\n",
       "</td>\n",
       "<td style=\"background: #FFFF68; color:#000000;\">63\n",
       "</td>\n",
       "<td style=\"background: #FFFF70; color:#000000;\">65\n",
       "</td>\n",
       "<td style=\"background: #FFFF6C; color:#000000;\">64\n",
       "</td>\n",
       "<td style=\"background: #FFFF68; color:#000000;\">63\n",
       "</td>\n",
       "<td style=\"background: #FFFF5B; color:#000000;\">60\n",
       "</td>\n",
       "<td style=\"background: #FDFD2E; color:#000000;\">49\n",
       "</td>\n",
       "<td style=\"background: #FFFF33; color:#000000;\">50\n",
       "</td>\n",
       "<td style=\"background: #FFFF57; color:#000000; border-left-width:medium\">59\n",
       "</td></tr>\n",
       "<tr>\n",
       "<td colspan=\"14\" style=\"text-align:center;font-size:95%;\">Source: NOAA (relative humidity and sun 1961−1990)<sup class=\"reference\" id=\"cite_ref-NCDC_txt_KBOS_113-0\"><a href=\"#cite_note-NCDC_txt_KBOS-113\">[107]</a></sup><sup class=\"reference\" id=\"cite_ref-NWS_Boston,_MA_(BOX)_100-6\"><a href=\"#cite_note-NWS_Boston,_MA_(BOX)-100\">[98]</a></sup><sup class=\"reference\" id=\"cite_ref-WMO_1961–90_KBOS_114-0\"><a href=\"#cite_note-WMO_1961–90_KBOS-114\">[108]</a></sup>\n",
       "</td></tr></tbody></table>"
      ]
     },
     "execution_count": 394,
     "metadata": {},
     "output_type": "execute_result"
    }
   ],
   "source": [
    "retrieve_climate_table(\"https://en.wikipedia.org/wiki/Boston\")"
   ]
  },
  {
   "cell_type": "markdown",
   "metadata": {},
   "source": [
    "### 3.3\n",
    "####  Write a function list_climate_table_row_names that takes as its only argument a Wikipedia URL and returns a list of the row names of the climate data table, or returns None if no such table exists."
   ]
  },
  {
   "cell_type": "code",
   "execution_count": 395,
   "metadata": {},
   "outputs": [],
   "source": [
    "def list_climate_table_row_names(url):\n",
    "    tb = retrieve_climate_table(url)\n",
    "    if tb == None:\n",
    "        return None\n",
    "    else:\n",
    "        return [row.get_text().strip() for row in tb.find_all('th',scope='row')]"
   ]
  },
  {
   "cell_type": "markdown",
   "metadata": {},
   "source": [
    "### 3.4\n",
    "####  The next natural step would be to write a function that takes a URL and a row name and retrieves the data from that row of the climate data table (if the table exists and has that row name). Doing this would require some complicated string wrangling to get right, so I’ll spare you the trouble. Instead, please briefly describe either in pseudo code or in plain English how you would accomplish this, using the two functions you wrote above and the tools available to you in the BeautifulSoup package."
   ]
  },
  {
   "cell_type": "code",
   "execution_count": 396,
   "metadata": {},
   "outputs": [
    {
     "data": {
      "text/plain": [
       "\"\\ndef get_row_data(url,rowname):\\n    if not isinstance(rowname,str):\\n        raise TypeError('rowname should be a string!')\\n    try:\\n        rowname_list = list_climate_table_row_names(url)\\n    except:\\n        raise ValueError('Check validity of url!')\\n    if rowname_list == None:\\n        print('There are no climate table in this url!')\\n    elif rowname not in rowname_list:\\n        print('There are no such row in climate table!')\\n    else:\\n        ind = rowname_list.index(rowname)\\n    and we can find row index so that we can locate that row. And we get all the text between this row and next row\\n    as our desired date.\\n\""
      ]
     },
     "execution_count": 396,
     "metadata": {},
     "output_type": "execute_result"
    }
   ],
   "source": [
    "'''\n",
    "def get_row_data(url,rowname):\n",
    "    if not isinstance(rowname,str):\n",
    "        raise TypeError('rowname should be a string!')\n",
    "    try:\n",
    "        rowname_list = list_climate_table_row_names(url)\n",
    "    except:\n",
    "        raise ValueError('Check validity of url!')\n",
    "    if rowname_list == None:\n",
    "        print('There are no climate table in this url!')\n",
    "    elif rowname not in rowname_list:\n",
    "        print('There are no such row in climate table!')\n",
    "    else:\n",
    "        ind = rowname_list.index(rowname)\n",
    "    and we can find row index so that we can locate that row. And we get all the text between this row and next row\n",
    "    as our desired date.\n",
    "'''"
   ]
  },
  {
   "cell_type": "markdown",
   "metadata": {},
   "source": [
    "### <span style=\"color:red\"> Step Description: like the pseudo code I write above, we can firstly get the index of the row we want by finding the index of the desired rowname in the rowname_list(BY USING list_climate_table_row_name). Then we use table we get from retrieve_climate_table (of course we need to make sure those two tables in both functions are same table). And then we can locate the row by index, and get all the text between this rowname tag and next rowname tag<span>"
   ]
  },
  {
   "cell_type": "markdown",
   "metadata": {},
   "source": [
    "### Problem 4: Relational Databases and SQL\n",
    "### 4.1\n",
    "#### Load the database using the Python sqlite3 package. How many tables are in the database? Save the answer in the variable n_tables."
   ]
  },
  {
   "cell_type": "code",
   "execution_count": 397,
   "metadata": {},
   "outputs": [
    {
     "data": {
      "text/plain": [
       "11"
      ]
     },
     "execution_count": 397,
     "metadata": {},
     "output_type": "execute_result"
    }
   ],
   "source": [
    "conn = sqlite3.connect('Chinook_Sqlite.sqlite')\n",
    "c = conn.cursor()\n",
    "n_tables = len([x for x in c.execute('''SELECT * FROM sqlite_master WHERE type='table' ''')])\n",
    "n_tables"
   ]
  },
  {
   "cell_type": "markdown",
   "metadata": {},
   "source": [
    "### 4.2\n",
    "#### What are the names of the tables in the database? Save the answer as a list of strings, table_names."
   ]
  },
  {
   "cell_type": "code",
   "execution_count": 398,
   "metadata": {},
   "outputs": [
    {
     "data": {
      "text/plain": [
       "['Album',\n",
       " 'Artist',\n",
       " 'Customer',\n",
       " 'Employee',\n",
       " 'Genre',\n",
       " 'Invoice',\n",
       " 'InvoiceLine',\n",
       " 'MediaType',\n",
       " 'Playlist',\n",
       " 'PlaylistTrack',\n",
       " 'Track']"
      ]
     },
     "execution_count": 398,
     "metadata": {},
     "output_type": "execute_result"
    }
   ],
   "source": [
    "table_names = [x[0] for x in c.execute('''SELECT name from sqlite_master WHERE type='table' ''')]\n",
    "table_names"
   ]
  },
  {
   "cell_type": "markdown",
   "metadata": {},
   "source": [
    "### 4.3\n",
    "#### Write a function list_album_ids_by_letter that takes as an argument a single character and returns a list of the primary keys of all the albums whose titles start with that character. Your function should ignore case, so that the inputs “a” and “A” yield the same results. Include error checking that raises an error in the event that the input is not a single character."
   ]
  },
  {
   "cell_type": "code",
   "execution_count": 399,
   "metadata": {},
   "outputs": [],
   "source": [
    "def list_album_ids_by_letter(letter):\n",
    "    if not isinstance(letter,str):\n",
    "        raise TypeError('Input should be a string!')\n",
    "    elif len(letter) != 1:\n",
    "        raise ValueError('Input should be a single letter!')\n",
    "    elif letter.isalpha() == False:\n",
    "        raise ValueError('Input should be a single letter!')\n",
    "    else:\n",
    "        all_album = [x for x in c.execute('''SELECT AlbumID,Title FROM Album''')]\n",
    "        return [album[0] for album in all_album if album[1][0].lower() == letter.lower()]"
   ]
  },
  {
   "cell_type": "markdown",
   "metadata": {},
   "source": [
    "### 4.4\n",
    "#### Write a function list_song_ids_by_album_letter that takes as an argument a single character and returns a list of the primary keys of all the songs whose album names begin with that letter. Again, your function should ignore case and perform error checking as in list_album_ids_by_letter. "
   ]
  },
  {
   "cell_type": "code",
   "execution_count": 400,
   "metadata": {},
   "outputs": [],
   "source": [
    "def list_song_ids_by_album_letter(letter):\n",
    "    if not isinstance(letter,str):\n",
    "        raise TypeError('Input should be a string!')\n",
    "    elif len(letter) != 1:\n",
    "        raise ValueError('Input should be a single letter!')\n",
    "    elif letter.isalpha() == False:\n",
    "        raise ValueError('Input should be a single letter!')\n",
    "    else:\n",
    "        all_album_track = [x for x in c.execute('''SELECT Title,TrackID \n",
    "                                                   FROM \n",
    "                                                       Album INNER JOIN Track\n",
    "                                                   ON Album.AlbumID = Track.AlbumID''')]\n",
    "        return [album[1] for album in all_album_track if album[0][0].lower() == letter.lower()]\n"
   ]
  },
  {
   "cell_type": "markdown",
   "metadata": {},
   "source": [
    "### 4.5\n",
    "#### Write a function total_cost_by_album_letter that takes as an argument a single character and returns the cost of buying every song whose album begins with that letter. This cost should be based on the tracks’ unit prices, so that the cost of buying a set of tracks is simply the sum of the unit prices of all the tracks in the set. Again your function should ignore case and perform appropriate error checking."
   ]
  },
  {
   "cell_type": "code",
   "execution_count": 401,
   "metadata": {},
   "outputs": [],
   "source": [
    "def total_cost_by_album_letter(letter):\n",
    "    if not isinstance(letter,str):\n",
    "        raise TypeError('Input should be a string!')\n",
    "    elif len(letter) != 1:\n",
    "        raise ValueError('Input should be a single letter!')\n",
    "    elif letter.isalpha() == False:\n",
    "        raise ValueError('Input should be a single letter!')\n",
    "    else:\n",
    "        all_album_price = [x for x in c.execute('''SELECT Title,UnitPrice\n",
    "                                                   FROM \n",
    "                                                       Album INNER JOIN Track\n",
    "                                                   ON Album.AlbumID = Track.AlbumID''')]\n",
    "        return sum([album[1] for album in all_album_price if album[0][0].lower() == letter.lower()])\n"
   ]
  }
 ],
 "metadata": {
  "kernelspec": {
   "display_name": "Python 3",
   "language": "python",
   "name": "python3"
  },
  "language_info": {
   "codemirror_mode": {
    "name": "ipython",
    "version": 3
   },
   "file_extension": ".py",
   "mimetype": "text/x-python",
   "name": "python",
   "nbconvert_exporter": "python",
   "pygments_lexer": "ipython3",
   "version": "3.7.1"
  }
 },
 "nbformat": 4,
 "nbformat_minor": 2
}
