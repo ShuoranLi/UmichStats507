{
 "cells": [
  {
   "cell_type": "markdown",
   "metadata": {},
   "source": [
    "## Stats507 Homework2, Winter 2019\n",
    "### Shuoran Li\n",
    "#### shuoranl@umich.edu\n",
    "\n",
    "I did not discuss problems with anyone else in the class on this homework.\n",
    "\n",
    "Problem 1 took me 50 min; Problem 2 took me 40 min; Problem 3 took me 20 min; Problem 4 took me 1.5 hour; Problem 5 took me 30 min; Problem 6 took me 1 hour."
   ]
  },
  {
   "cell_type": "markdown",
   "metadata": {},
   "source": [
    "### Problem 1: Fun with strings"
   ]
  },
  {
   "cell_type": "markdown",
   "metadata": {},
   "source": [
    "### 1.1 \n",
    "#### Write a function called is_palindrome, which takes a string as its only argument, and returns a Boolean."
   ]
  },
  {
   "cell_type": "code",
   "execution_count": 29,
   "metadata": {},
   "outputs": [],
   "source": [
    "def is_palindrome(s):\n",
    "    '''check if a string is palindrome'''\n",
    "    s_lower = s.lower()\n",
    "    s_lower_nsp = s_lower.replace(\" \",\"\") # delete all spaces in string\n",
    "    s_reverse = s_lower_nsp[::-1] # reverse the processed string\n",
    "    return (s_reverse == s_lower_nsp)"
   ]
  },
  {
   "cell_type": "markdown",
   "metadata": {},
   "source": [
    "### 1.2\n",
    "#### Write a function is_abecedarian, which takes a single argument in the form of a string and returns True if the argument is abecedarian and False otherwise."
   ]
  },
  {
   "cell_type": "code",
   "execution_count": 59,
   "metadata": {},
   "outputs": [],
   "source": [
    "def is_abecedarian(s):\n",
    "    '''check if a string is abecedarian'''\n",
    "    s_lower = s.lower()\n",
    "    s_lower_nsp = s_lower.replace(\" \",\"\") # delete all spaces in string\n",
    "    for i in range(0,len(s_lower_nsp)-1):\n",
    "        if s_lower_nsp[i] > s_lower_nsp[i+1]:\n",
    "            return False\n",
    "    return True"
   ]
  },
  {
   "cell_type": "markdown",
   "metadata": {},
   "source": [
    "### 1.3\n",
    "#### Write a function called remove_vowels that takes a string as its only argument and returns that string with all the vowels removed."
   ]
  },
  {
   "cell_type": "code",
   "execution_count": 76,
   "metadata": {},
   "outputs": [],
   "source": [
    "def remove_vowels(s):\n",
    "    '''remove vowels of one string'''\n",
    "    s_lower = s.lower()\n",
    "    s_lower_nsp = s_lower.replace(\" \",\"\") # delete all spaces in string\n",
    "    new_s = ''\n",
    "    for i in range(len(s_lower_nsp)):\n",
    "        if s_lower_nsp[i] not in 'aeiou':\n",
    "            new_s += s_lower_nsp[i]\n",
    "    return new_s"
   ]
  },
  {
   "cell_type": "markdown",
   "metadata": {},
   "source": [
    "### Problem 2: Fun with Lists"
   ]
  },
  {
   "cell_type": "markdown",
   "metadata": {},
   "source": [
    "### 2.1\n",
    "#### Write a function list_reverse that takes a list as an argument and returns that list, reversed."
   ]
  },
  {
   "cell_type": "code",
   "execution_count": 77,
   "metadata": {},
   "outputs": [],
   "source": [
    "def list_reverse(l):\n",
    "    if type(l) != list:\n",
    "        raise TypeError('Input element should be a list!')\n",
    "    else:\n",
    "        return l[::-1]"
   ]
  },
  {
   "cell_type": "markdown",
   "metadata": {},
   "source": [
    "### 2.2\n",
    "#### Write a function is_sorted that takes a sequence seq as its only argument and returns True if the sequence is sorted in ascending order and returns False oth- erwise."
   ]
  },
  {
   "cell_type": "code",
   "execution_count": 80,
   "metadata": {},
   "outputs": [],
   "source": [
    "def is_sorted(seq):\n",
    "    for i in range(len(seq)-1):\n",
    "        if seq[i] > seq[i+1]:\n",
    "            return False\n",
    "    return True"
   ]
  },
  {
   "cell_type": "markdown",
   "metadata": {},
   "source": [
    "### 2.3\n",
    "#### Write a function called binary_search that takes two arguments, a list of integers t (which is guaranteed to be sorted in ascending order) and an integer elmt, and returns True if elmt appears in list t and False otherwise."
   ]
  },
  {
   "cell_type": "code",
   "execution_count": 86,
   "metadata": {},
   "outputs": [],
   "source": [
    "def binary_search(t,elmt):\n",
    "    if len(t) == 0:\n",
    "        return False\n",
    "    elif len(t) == 1:\n",
    "        return (t == elmt)\n",
    "    else:\n",
    "        if elmt == t[len(t)//2]:\n",
    "            return True\n",
    "        elif elmt < t[len(t)//2]:\n",
    "            return binary_search(t[0:(len(t)//2)],elmt) # search within the first half of the list\n",
    "        else:\n",
    "            return binary_search(t[(len(t)//2):],elmt) # search within the second half of the list"
   ]
  },
  {
   "cell_type": "markdown",
   "metadata": {},
   "source": [
    "### Problem 3: More Fun with Strings"
   ]
  },
  {
   "cell_type": "markdown",
   "metadata": {},
   "source": [
    "### 3.1\n",
    "#### Write a function called char_hist that takes a string as its argument and returns a dictionary whose keys are characters and values are the number of times each character appeared in the input."
   ]
  },
  {
   "cell_type": "code",
   "execution_count": 106,
   "metadata": {},
   "outputs": [],
   "source": [
    "def char_hist(s):\n",
    "    dict_char = dict()\n",
    "    s_lower = s.lower()\n",
    "    for i in s_lower:\n",
    "        if i not in dict_char:\n",
    "            dict_char[i] = 1\n",
    "        else:\n",
    "            dict_char[i] += 1\n",
    "    return dict_char"
   ]
  },
  {
   "cell_type": "markdown",
   "metadata": {},
   "source": [
    "### 3.2\n",
    "####  Write a function called bigram_hist that takes a string as its argument and returns a dictionary whose keys are 2-tuples of characters and values are the number of times that pair of characters appeared in the string."
   ]
  },
  {
   "cell_type": "code",
   "execution_count": 112,
   "metadata": {},
   "outputs": [],
   "source": [
    "def bigram_hist(s):\n",
    "    s_lower = s.lower()\n",
    "    dict_tuple = dict()\n",
    "    for i in range(len(s_lower)-1):\n",
    "        if (s_lower[i],s_lower[i+1]) not in dict_tuple:\n",
    "            dict_tuple[(s_lower[i],s_lower[i+1])] = 1\n",
    "        else:\n",
    "            dict_tuple[(s_lower[i],s_lower[i+1])] += 1\n",
    "    return dict_tuple"
   ]
  },
  {
   "cell_type": "markdown",
   "metadata": {},
   "source": [
    "### Problem 4: Tuples as Vectors\n",
    "### 4.1\n",
    "#### Implement a function called vec_scalar_mult"
   ]
  },
  {
   "cell_type": "code",
   "execution_count": 125,
   "metadata": {},
   "outputs": [],
   "source": [
    "def is_valid_vector(t):\n",
    "    '''check if a tuple is valid'''\n",
    "    if type(t) != tuple:\n",
    "        raise TypeError('The first input should be a tuple!')\n",
    "    else:\n",
    "        for i in range(len(t)):\n",
    "            if type(t[i]) not in (float, int):\n",
    "                raise TypeError('The element of tuple should be float or int!')\n",
    "    "
   ]
  },
  {
   "cell_type": "code",
   "execution_count": 146,
   "metadata": {},
   "outputs": [],
   "source": [
    "def vec_scalar_mult(t,s):\n",
    "    is_valid_vector(t)\n",
    "    new_value = []\n",
    "    if type(s) not in (float, int):\n",
    "        raise TypeError('The second input should be a float or int')\n",
    "    else:\n",
    "        for i in range(len(t)):\n",
    "            new_value.append(s*t[i])\n",
    "        return tuple(new_value)"
   ]
  },
  {
   "cell_type": "markdown",
   "metadata": {},
   "source": [
    "### 4.2\n",
    "#### Implement a function called vec_inner_product"
   ]
  },
  {
   "cell_type": "code",
   "execution_count": 152,
   "metadata": {},
   "outputs": [],
   "source": [
    "def vec_inner_product(t1,t2):\n",
    "    is_valid_vector(t1)\n",
    "    is_valid_vector(t2)\n",
    "    if len(t1) != len(t2):\n",
    "        raise ValueError('The dimension of vectors should be equivalent!')\n",
    "    else:\n",
    "        prod = 0\n",
    "        for i in range(len(t1)):\n",
    "            prod += t1[i]*t2[i]\n",
    "        return (prod)"
   ]
  },
  {
   "cell_type": "markdown",
   "metadata": {},
   "source": [
    "### 4.3\n",
    "#### Write a function check_valid_mx that takes a single argument and returns a Boolean, which is True if the given argument is a tuple that validly represents a matrix."
   ]
  },
  {
   "cell_type": "code",
   "execution_count": 160,
   "metadata": {},
   "outputs": [],
   "source": [
    "def check_valid_mx(mx):\n",
    "    if type(mx) != tuple:\n",
    "        return False\n",
    "    for i in range(len(mx)):\n",
    "        if type(mx[i]) != tuple:\n",
    "            return False\n",
    "        else:\n",
    "            for j in range(len(mx[i])):\n",
    "                if type(mx[i][j]) not in (float, int):\n",
    "                    return False\n",
    "        if len(mx[i]) != len(mx[0]):\n",
    "            return False\n",
    "    return True"
   ]
  },
  {
   "cell_type": "markdown",
   "metadata": {},
   "source": [
    "### 4.4\n",
    "#### Write a function mx_vec_mult that takes a matrix (i.e., tuple of tuples) and a vector (i.e., a tuple) as its arguments, and returns a vector (i.e., a tuple of numbers) that is the result of multiplying the given vector by the given matrix."
   ]
  },
  {
   "cell_type": "code",
   "execution_count": 176,
   "metadata": {},
   "outputs": [],
   "source": [
    "def mx_vec_mult(mx,t):\n",
    "    if check_valid_mx(mx) == False:\n",
    "        raise TypeError('The first input is not a valid matrix')\n",
    "    else:\n",
    "        out_vec = [] #Initialize the outcome\n",
    "        for i in range(len(mx)):\n",
    "            out_vec.append(vec_inner_product(mx[i],t)) #Use previous function to get the product of matrix and vector\n",
    "    return tuple(out_vec)"
   ]
  },
  {
   "cell_type": "markdown",
   "metadata": {},
   "source": [
    "### Problem 5: More Fun with Vectors\n",
    "### 5.1\n",
    "#### Write a function is_valid_sparse_vector that takes one argument, and returns True if and only if the input is a valid sparse vector, and returns False otherwise."
   ]
  },
  {
   "cell_type": "code",
   "execution_count": 177,
   "metadata": {},
   "outputs": [],
   "source": [
    "def is_valid_sparse_vector(d):\n",
    "    if type(d) != dict:\n",
    "        return False\n",
    "    for (k,v) in d.items():\n",
    "        if k <= 0 or type(k) != int:\n",
    "            return False\n",
    "        elif type(v) != float:\n",
    "            return False\n",
    "    return True"
   ]
  },
  {
   "cell_type": "markdown",
   "metadata": {},
   "source": [
    "### 5.2\n",
    "#### Write a function sparse_inner_product that takes two “sparse vectors” as its inputs, and returns a float that is the value of the inner product of the vectors that the inputs represent."
   ]
  },
  {
   "cell_type": "code",
   "execution_count": 184,
   "metadata": {},
   "outputs": [],
   "source": [
    "def sparse_inner_product(d1,d2):\n",
    "    if is_valid_sparse_vector(d1)==False or is_valid_sparse_vector(d2)==False:\n",
    "        raise TypeError('Inputs should be valid sparse vector!')\n",
    "    prod = 0 # Initilizing the product\n",
    "    for k in d1.keys():\n",
    "        if k in d2.keys():\n",
    "            prod += d1[k]*d2[k]\n",
    "    return prod"
   ]
  },
  {
   "cell_type": "markdown",
   "metadata": {},
   "source": [
    "### Problem 6: More Fun with Tuples\n",
    "### 6.1\n",
    "#### Write a function called my_sum that takes any number of numeric (ints and floats) arguments, and returns the sum of its arguments."
   ]
  },
  {
   "cell_type": "code",
   "execution_count": 191,
   "metadata": {},
   "outputs": [],
   "source": [
    "def my_sum(*num):\n",
    "    if len(num)==0:\n",
    "        return 0\n",
    "    else:\n",
    "        final_sum = 0 #Initialize the sum\n",
    "        for i in num:\n",
    "            final_sum += i\n",
    "    return final_sum"
   ]
  },
  {
   "cell_type": "markdown",
   "metadata": {},
   "source": [
    "### 6.2\n",
    "#### Write a function called reverse_tuple that takes a tuple as its only argument and returns a tuple that is the reverse of the input."
   ]
  },
  {
   "cell_type": "code",
   "execution_count": 198,
   "metadata": {},
   "outputs": [],
   "source": [
    "def reverse_tuple(t):\n",
    "    return(t[::-1])"
   ]
  },
  {
   "cell_type": "markdown",
   "metadata": {},
   "source": [
    "### 6.3\n",
    "#### Write a function called rotate_tuple."
   ]
  },
  {
   "cell_type": "code",
   "execution_count": 239,
   "metadata": {},
   "outputs": [],
   "source": [
    "def rotate_tuple(t,n):\n",
    "    try:\n",
    "        if type(t) != tuple or type(n) != int:\n",
    "            raise TypeError('Input should be a tuple and an integer!')\n",
    "        else:\n",
    "            t_to_list = list(t)\n",
    "            for i in range(len(t)):\n",
    "                t_to_list[((i+n)%len(t))] = t[i]\n",
    "            return(tuple(t_to_list))\n",
    "    except TypeError:\n",
    "        new_t=tuple(t)\n",
    "        new_n=int(n)\n",
    "        print('We make your first input a tuple',new_t,'and round down your second number to an integer',new_n)\n",
    "        rotate_tuple(new_t,new_n)"
   ]
  }
 ],
 "metadata": {
  "kernelspec": {
   "display_name": "Python 3",
   "language": "python",
   "name": "python3"
  },
  "language_info": {
   "codemirror_mode": {
    "name": "ipython",
    "version": 3
   },
   "file_extension": ".py",
   "mimetype": "text/x-python",
   "name": "python",
   "nbconvert_exporter": "python",
   "pygments_lexer": "ipython3",
   "version": "3.7.1"
  }
 },
 "nbformat": 4,
 "nbformat_minor": 2
}
